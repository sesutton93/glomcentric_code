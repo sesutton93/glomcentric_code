{
 "cells": [
  {
   "cell_type": "markdown",
   "metadata": {},
   "source": [
    "# Decompose MOB data"
   ]
  },
  {
   "cell_type": "markdown",
   "metadata": {},
   "source": [
    "Apply NMF or sICA factorization to MOB data"
   ]
  },
  {
   "cell_type": "code",
   "execution_count": 3,
   "metadata": {},
   "outputs": [],
   "source": [
    "import sys\n",
    "import os\n",
    "curdir = os.path.abspath(os.path.curdir)\n",
    "sys.path.append(os.path.join(curdir,'FUImaging'))"
   ]
  },
  {
   "cell_type": "code",
   "execution_count": 4,
   "metadata": {},
   "outputs": [],
   "source": [
    "from configobj import ConfigObj\n",
    "import glob\n",
    "import numpy as np\n",
    "from regnmf import ImageAnalysisComponents as ia\n",
    "from scipy.spatial.distance import pdist\n",
    "import matplotlib.pyplot as plt\n",
    "from PIL import Image"
   ]
  },
  {
   "cell_type": "markdown",
   "metadata": {},
   "source": [
    "### Specify parameter"
   ]
  },
  {
   "cell_type": "code",
   "execution_count": 5,
   "metadata": {},
   "outputs": [],
   "source": [
    "basepath = os.path.join('/media/jan/BackupWork/Documents/NewAnalysis')\n",
    "datapath = os.path.join(basepath, 'MOBconverted') #where to get the data\n",
    "savepath = os.path.join(basepath, 'MOBdecomposed') #where to save decompostion\n",
    "savepath_vis = '/home/jan/Dokumente/MOBData/Vis/Factorizations' #where to save visualization of decomposition\n",
    "cfgfile = os.path.join(basepath, 'configfiles', 'decompose', 'nnmf_50_sm2_convex_negTimelowSP.ini') #'sica_200.ini') #\n",
    "datafile = 'sph_meas'#'ios_meas'\n",
    "response_window = (8,12) #define frames to calculate odor response; ios:(3,5) sph:(8,12)"
   ]
  },
  {
   "cell_type": "code",
   "execution_count": 6,
   "metadata": {},
   "outputs": [],
   "source": [
    "animal = '120217FRVg'"
   ]
  },
  {
   "cell_type": "markdown",
   "metadata": {},
   "source": [
    "### NMF factorization"
   ]
  },
  {
   "cell_type": "markdown",
   "metadata": {},
   "source": [
    "Performs NMF factorization according to config file. The sparsness parameter is choosen iterativly: First start with 'sparse_start' as initial guess. Sparseness will increase in steps of 'sparse_increase' until spatial component correlation of stimulus dependent components drops below 0.5"
   ]
  },
  {
   "cell_type": "code",
   "execution_count": 8,
   "metadata": {},
   "outputs": [
    {
     "ename": "FileNotFoundError",
     "evalue": "[Errno 2] No such file or directory: '/media/jan/BackupWork/Documents/NewAnalysis/MOBconverted/120217FRVg/sph_meas.json'",
     "output_type": "error",
     "traceback": [
      "\u001B[0;31m---------------------------------------------------------------------------\u001B[0m",
      "\u001B[0;31mFileNotFoundError\u001B[0m                         Traceback (most recent call last)",
      "\u001B[0;32m<ipython-input-8-8d52edd5d491>\u001B[0m in \u001B[0;36m<module>\u001B[0;34m\u001B[0m\n\u001B[1;32m     11\u001B[0m \u001B[0mfilename\u001B[0m \u001B[0;34m=\u001B[0m \u001B[0mos\u001B[0m\u001B[0;34m.\u001B[0m\u001B[0mpath\u001B[0m\u001B[0;34m.\u001B[0m\u001B[0mjoin\u001B[0m\u001B[0;34m(\u001B[0m\u001B[0mdatapath\u001B[0m\u001B[0;34m,\u001B[0m \u001B[0manimal\u001B[0m\u001B[0;34m,\u001B[0m \u001B[0mdatafile\u001B[0m\u001B[0;34m)\u001B[0m\u001B[0;34m\u001B[0m\u001B[0;34m\u001B[0m\u001B[0m\n\u001B[1;32m     12\u001B[0m \u001B[0mts\u001B[0m \u001B[0;34m=\u001B[0m \u001B[0mia\u001B[0m\u001B[0;34m.\u001B[0m\u001B[0mTimeSeries\u001B[0m\u001B[0;34m(\u001B[0m\u001B[0;34m)\u001B[0m\u001B[0;34m\u001B[0m\u001B[0;34m\u001B[0m\u001B[0m\n\u001B[0;32m---> 13\u001B[0;31m \u001B[0mts\u001B[0m\u001B[0;34m.\u001B[0m\u001B[0mload\u001B[0m\u001B[0;34m(\u001B[0m\u001B[0mfilename\u001B[0m\u001B[0;34m)\u001B[0m\u001B[0;34m\u001B[0m\u001B[0;34m\u001B[0m\u001B[0m\n\u001B[0m\u001B[1;32m     14\u001B[0m \u001B[0;34m\u001B[0m\u001B[0m\n\u001B[1;32m     15\u001B[0m \u001B[0mcfg\u001B[0m\u001B[0;34m[\u001B[0m\u001B[0;34m'sparse_param'\u001B[0m\u001B[0;34m]\u001B[0m \u001B[0;34m=\u001B[0m \u001B[0msparse_start\u001B[0m\u001B[0;34m\u001B[0m\u001B[0;34m\u001B[0m\u001B[0m\n",
      "\u001B[0;32m~/Documents/Repos/glomcentric_code/FUImaging/regnmf/ImageAnalysisComponents.py\u001B[0m in \u001B[0;36mload\u001B[0;34m(self, filename)\u001B[0m\n\u001B[1;32m    126\u001B[0m \u001B[0;34m\u001B[0m\u001B[0m\n\u001B[1;32m    127\u001B[0m     \u001B[0;32mdef\u001B[0m \u001B[0mload\u001B[0m\u001B[0;34m(\u001B[0m\u001B[0mself\u001B[0m\u001B[0;34m,\u001B[0m \u001B[0mfilename\u001B[0m\u001B[0;34m)\u001B[0m\u001B[0;34m:\u001B[0m\u001B[0;34m\u001B[0m\u001B[0;34m\u001B[0m\u001B[0m\n\u001B[0;32m--> 128\u001B[0;31m         \u001B[0mself\u001B[0m\u001B[0;34m.\u001B[0m\u001B[0m__dict__\u001B[0m\u001B[0;34m.\u001B[0m\u001B[0mupdate\u001B[0m\u001B[0;34m(\u001B[0m\u001B[0mjson\u001B[0m\u001B[0;34m.\u001B[0m\u001B[0mload\u001B[0m\u001B[0;34m(\u001B[0m\u001B[0mopen\u001B[0m\u001B[0;34m(\u001B[0m\u001B[0mfilename\u001B[0m \u001B[0;34m+\u001B[0m \u001B[0;34m'.json'\u001B[0m\u001B[0;34m)\u001B[0m\u001B[0;34m)\u001B[0m\u001B[0;34m)\u001B[0m\u001B[0;34m\u001B[0m\u001B[0;34m\u001B[0m\u001B[0m\n\u001B[0m\u001B[1;32m    129\u001B[0m         \u001B[0mself\u001B[0m\u001B[0;34m.\u001B[0m\u001B[0mfile\u001B[0m \u001B[0;34m=\u001B[0m \u001B[0mabspath\u001B[0m\u001B[0;34m(\u001B[0m\u001B[0mfilename\u001B[0m\u001B[0;34m)\u001B[0m\u001B[0;34m\u001B[0m\u001B[0;34m\u001B[0m\u001B[0m\n\u001B[1;32m    130\u001B[0m         \u001B[0mself\u001B[0m\u001B[0;34m.\u001B[0m\u001B[0m_series\u001B[0m \u001B[0;34m=\u001B[0m \u001B[0mnp\u001B[0m\u001B[0;34m.\u001B[0m\u001B[0mload\u001B[0m\u001B[0;34m(\u001B[0m\u001B[0mfilename\u001B[0m \u001B[0;34m+\u001B[0m \u001B[0;34m'.npy'\u001B[0m\u001B[0;34m)\u001B[0m\u001B[0;34m\u001B[0m\u001B[0;34m\u001B[0m\u001B[0m\n",
      "\u001B[0;31mFileNotFoundError\u001B[0m: [Errno 2] No such file or directory: '/media/jan/BackupWork/Documents/NewAnalysis/MOBconverted/120217FRVg/sph_meas.json'"
     ]
    }
   ],
   "source": [
    "sparse_start = 0.2 #inital sparseness strength\n",
    "assert 'nnmf' in cfgfile\n",
    "\n",
    "    \n",
    "#load config\n",
    "cfg = ConfigObj(cfgfile, unrepr=True)\n",
    "\n",
    "\n",
    "\n",
    "#load data\n",
    "filename = os.path.join(datapath, animal, datafile)\n",
    "ts = ia.TimeSeries()\n",
    "ts.load(filename)\n",
    "\n",
    "cfg['sparse_param'] = sparse_start\n",
    "cfg['verbose'] = 1\n",
    "cfg['smooth_param'] = 5\n",
    "cfg['num_components'] = 20\n",
    "\n",
    "# perform decomposition\n",
    "decomposer = ia.NNMF(**cfg)\n",
    "decomposition = decomposer(ts)\n",
    "decomposition.base._series[np.isnan(decomposition.base._series)] = 0 #clear nans\n",
    "    \n",
    "# calc spatial cor of stimulus driven components\n",
    "signal = ia.TrialMean()(ia.CutOut(response_window)(decomposition))\n",
    "mode_cor = ia.CalcStimulusDrive()(signal)\n",
    "mask = mode_cor._series.squeeze()<0.5\n",
    "if np.sum(mask) != 0: #if there are stimulus driven components  \n",
    "    selected_modes = ia.SelectObjects()(decomposition, mask)   \n",
    "    cor = np.nanmax(1-pdist(selected_modes.base._series, 'correlation'))\n",
    "else:\n",
    "    cor = np.nanmax(1-pdist(decomposition.base._series, 'correlation'))"
   ]
  },
  {
   "cell_type": "code",
   "execution_count": null,
   "outputs": [],
   "source": [
    "cfg"
   ],
   "metadata": {
    "collapsed": false,
    "pycharm": {
     "name": "#%%\n"
    }
   }
  },
  {
   "cell_type": "code",
   "execution_count": 15,
   "metadata": {},
   "outputs": [],
   "source": [
    "ax = plt.subplot(111)\n",
    "for ix, base in enumerate(decomposition.base.shaped2D()):\n",
    "    mycolors = ['c', 'b'] if mode_cor._series.squeeze()[ix] <0.4 else ['0.3', '0.7']\n",
    "    if decomposition.name.split('_')[1] == 'l':\n",
    "        base  = base[::-1]    \n",
    "    ax.contourf(base, [0.3,0.7,1], colors=mycolors, alpha=0.5)\n",
    "plt.show()"
   ]
  },
  {
   "cell_type": "code",
   "execution_count": 16,
   "metadata": {},
   "outputs": [
    {
     "name": "stdout",
     "output_type": "stream",
     "text": [
      "0.439238220935\n"
     ]
    }
   ],
   "source": [
    "print(np.nanmax(1-pdist(decomposition.base._series, 'correlation')))\n",
    "\n",
    "\n",
    "for ix, base in enumerate(decomposition.base.shaped2D()):\n",
    "    ax = plt.subplot(8,7,ix+1)\n",
    "    ax.imshow(base, vmin=0, vmax=1, interpolation='none')\n",
    "plt.show()"
   ]
  },
  {
   "cell_type": "markdown",
   "metadata": {},
   "source": [
    "### sICA factorization"
   ]
  },
  {
   "cell_type": "code",
   "execution_count": 28,
   "metadata": {},
   "outputs": [
    {
     "name": "stdout",
     "output_type": "stream",
     "text": [
      "{'num_components': 200}\n",
      "110406 done\n",
      "{'num_components': 200}\n",
      "090402r done\n",
      "{'num_components': 200}\n",
      "110401 done\n",
      "{'num_components': 200}\n",
      "110830 done\n",
      "{'num_components': 200}\n",
      "090810 done\n",
      "{'num_components': 200}\n",
      "110210 done\n",
      "{'num_components': 200}\n",
      "110616c done\n",
      "{'num_components': 200}\n",
      "110615 done\n",
      "{'num_components': 200}\n",
      "090414l done\n",
      "{'num_components': 200}\n",
      "110916 done\n",
      "{'num_components': 200}\n",
      "110610 done\n",
      "{'num_components': 200}\n",
      "100215 done\n",
      "{'num_components': 200}\n",
      "100715 done\n",
      "{'num_components': 200}\n",
      "110627 done\n",
      "{'num_components': 200}\n",
      "110519 done\n",
      "{'num_components': 200}\n",
      "110314 done\n",
      "{'num_components': 200}\n",
      "110913 done\n",
      "{'num_components': 200}\n",
      "110329 done\n",
      "{'num_components': 200}\n",
      "110505 done\n",
      "{'num_components': 200}\n",
      "110331 done\n",
      "{'num_components': 200}\n",
      "100225 done\n",
      "{'num_components': 200}\n",
      "110504 done\n",
      "{'num_components': 200}\n",
      "120107 done\n",
      "{'num_components': 200}\n",
      "090820 done\n",
      "{'num_components': 200}\n",
      "101126 done\n",
      "{'num_components': 200}\n",
      "090331l done\n",
      "{'num_components': 200}\n",
      "111222sph done\n",
      "{'num_components': 200}\n",
      "110629 done\n",
      "{'num_components': 200}\n",
      "110722 done\n",
      "{'num_components': 200}\n",
      "100202 done\n",
      "{'num_components': 200}\n",
      "111212sph done\n",
      "{'num_components': 200}\n",
      "110729 done\n",
      "{'num_components': 200}\n",
      "110408 done\n",
      "{'num_components': 200}\n",
      "110727b done\n",
      "{'num_components': 200}\n",
      "100315 done\n",
      "{'num_components': 200}\n",
      "110211 done\n",
      "{'num_components': 200}\n",
      "100212 done\n",
      "{'num_components': 200}\n",
      "110906_2pcai done\n",
      "{'num_components': 200}\n",
      "100716 done\n",
      "{'num_components': 200}\n",
      "110614 done\n",
      "{'num_components': 200}\n",
      "110909 done\n",
      "{'num_components': 200}\n",
      "110727c done\n",
      "{'num_components': 200}\n",
      "111221sph done\n",
      "{'num_components': 200}\n",
      "101125 done\n",
      "{'num_components': 200}\n",
      "120125 done\n",
      "{'num_components': 200}"
     ]
    },
    {
     "ename": "MemoryError",
     "evalue": "",
     "output_type": "error",
     "traceback": [
      "\u001B[1;31m---------------------------------------------------------------------------\u001B[0m\n\u001B[1;31mMemoryError\u001B[0m                               Traceback (most recent call last)",
      "\u001B[1;32m<ipython-input-28-9f6a76fa696e>\u001B[0m in \u001B[0;36m<module>\u001B[1;34m()\u001B[0m\n\u001B[0;32m     25\u001B[0m     \u001B[1;31m# perform decomposition\u001B[0m\u001B[1;33m\u001B[0m\u001B[1;33m\u001B[0m\u001B[0m\n\u001B[0;32m     26\u001B[0m     \u001B[0mdecomposer\u001B[0m \u001B[1;33m=\u001B[0m \u001B[0mia\u001B[0m\u001B[1;33m.\u001B[0m\u001B[0msICA\u001B[0m\u001B[1;33m(\u001B[0m\u001B[1;33m**\u001B[0m\u001B[0mcfg\u001B[0m\u001B[1;33m)\u001B[0m\u001B[1;33m\u001B[0m\u001B[0m\n\u001B[1;32m---> 27\u001B[1;33m     \u001B[0mdecomposition\u001B[0m \u001B[1;33m=\u001B[0m \u001B[0mdecomposer\u001B[0m\u001B[1;33m(\u001B[0m\u001B[0mts\u001B[0m\u001B[1;33m)\u001B[0m\u001B[1;33m\u001B[0m\u001B[0m\n\u001B[0m\u001B[0;32m     28\u001B[0m     \u001B[0mdecomposition\u001B[0m\u001B[1;33m.\u001B[0m\u001B[0mbase\u001B[0m\u001B[1;33m.\u001B[0m\u001B[0m_series\u001B[0m\u001B[1;33m[\u001B[0m\u001B[0mnp\u001B[0m\u001B[1;33m.\u001B[0m\u001B[0misnan\u001B[0m\u001B[1;33m(\u001B[0m\u001B[0mdecomposition\u001B[0m\u001B[1;33m.\u001B[0m\u001B[0mbase\u001B[0m\u001B[1;33m.\u001B[0m\u001B[0m_series\u001B[0m\u001B[1;33m)\u001B[0m\u001B[1;33m]\u001B[0m \u001B[1;33m=\u001B[0m \u001B[1;36m0\u001B[0m \u001B[1;31m#clear nans\u001B[0m\u001B[1;33m\u001B[0m\u001B[0m\n\u001B[0;32m     29\u001B[0m \u001B[1;33m\u001B[0m\u001B[0m\n",
      "\u001B[1;32m/home/jan/workspace/FUimaging/ImageAnalysisComponents.py\u001B[0m in \u001B[0;36m__call__\u001B[1;34m(self, timeseries)\u001B[0m\n\u001B[0;32m    256\u001B[0m         \u001B[0mself\u001B[0m\u001B[1;33m.\u001B[0m\u001B[0mpca\u001B[0m \u001B[1;33m=\u001B[0m \u001B[0msld\u001B[0m\u001B[1;33m.\u001B[0m\u001B[0mPCA\u001B[0m\u001B[1;33m(\u001B[0m\u001B[0mn_components\u001B[0m\u001B[1;33m=\u001B[0m\u001B[0mself\u001B[0m\u001B[1;33m.\u001B[0m\u001B[0mvariance\u001B[0m\u001B[1;33m)\u001B[0m\u001B[1;33m\u001B[0m\u001B[0m\n\u001B[0;32m    257\u001B[0m         \u001B[1;32mtry\u001B[0m\u001B[1;33m:\u001B[0m\u001B[1;33m\u001B[0m\u001B[0m\n\u001B[1;32m--> 258\u001B[1;33m             \u001B[0mbase\u001B[0m \u001B[1;33m=\u001B[0m \u001B[0mself\u001B[0m\u001B[1;33m.\u001B[0m\u001B[0mpca\u001B[0m\u001B[1;33m.\u001B[0m\u001B[0mfit_transform\u001B[0m\u001B[1;33m(\u001B[0m\u001B[0mtimeseries\u001B[0m\u001B[1;33m.\u001B[0m\u001B[0m_series\u001B[0m\u001B[1;33m.\u001B[0m\u001B[0mT\u001B[0m\u001B[1;33m)\u001B[0m\u001B[1;33m\u001B[0m\u001B[0m\n\u001B[0m\u001B[0;32m    259\u001B[0m             \u001B[0mself\u001B[0m\u001B[1;33m.\u001B[0m\u001B[0mobj\u001B[0m \u001B[1;33m=\u001B[0m \u001B[0mfloat\u001B[0m\u001B[1;33m(\u001B[0m\u001B[0mnp\u001B[0m\u001B[1;33m.\u001B[0m\u001B[0msum\u001B[0m\u001B[1;33m(\u001B[0m\u001B[0mself\u001B[0m\u001B[1;33m.\u001B[0m\u001B[0mpca\u001B[0m\u001B[1;33m.\u001B[0m\u001B[0mexplained_variance_ratio_\u001B[0m\u001B[1;33m)\u001B[0m\u001B[1;33m)\u001B[0m\u001B[1;33m\u001B[0m\u001B[0m\n\u001B[0;32m    260\u001B[0m         \u001B[1;32mexcept\u001B[0m \u001B[0mnp\u001B[0m\u001B[1;33m.\u001B[0m\u001B[0mlinalg\u001B[0m\u001B[1;33m.\u001B[0m\u001B[0mLinAlgError\u001B[0m\u001B[1;33m:\u001B[0m\u001B[1;33m\u001B[0m\u001B[0m\n",
      "\u001B[1;32m/home/jan/virt_env/march2013/local/lib/python2.7/site-packages/sklearn/decomposition/pca.pyc\u001B[0m in \u001B[0;36mfit_transform\u001B[1;34m(self, X, y, **params)\u001B[0m\n\u001B[0;32m    212\u001B[0m \u001B[1;33m\u001B[0m\u001B[0m\n\u001B[0;32m    213\u001B[0m         \"\"\"\n\u001B[1;32m--> 214\u001B[1;33m         \u001B[0mU\u001B[0m\u001B[1;33m,\u001B[0m \u001B[0mS\u001B[0m\u001B[1;33m,\u001B[0m \u001B[0mV\u001B[0m \u001B[1;33m=\u001B[0m \u001B[0mself\u001B[0m\u001B[1;33m.\u001B[0m\u001B[0m_fit\u001B[0m\u001B[1;33m(\u001B[0m\u001B[0mX\u001B[0m\u001B[1;33m,\u001B[0m \u001B[1;33m**\u001B[0m\u001B[0mparams\u001B[0m\u001B[1;33m)\u001B[0m\u001B[1;33m\u001B[0m\u001B[0m\n\u001B[0m\u001B[0;32m    215\u001B[0m         \u001B[0mU\u001B[0m \u001B[1;33m=\u001B[0m \u001B[0mU\u001B[0m\u001B[1;33m[\u001B[0m\u001B[1;33m:\u001B[0m\u001B[1;33m,\u001B[0m \u001B[1;33m:\u001B[0m\u001B[0mself\u001B[0m\u001B[1;33m.\u001B[0m\u001B[0mn_components\u001B[0m\u001B[1;33m]\u001B[0m\u001B[1;33m\u001B[0m\u001B[0m\n\u001B[0;32m    216\u001B[0m \u001B[1;33m\u001B[0m\u001B[0m\n",
      "\u001B[1;32m/home/jan/virt_env/march2013/local/lib/python2.7/site-packages/sklearn/decomposition/pca.pyc\u001B[0m in \u001B[0;36m_fit\u001B[1;34m(self, X)\u001B[0m\n\u001B[0;32m    231\u001B[0m         \u001B[0mself\u001B[0m\u001B[1;33m.\u001B[0m\u001B[0mmean_\u001B[0m \u001B[1;33m=\u001B[0m \u001B[0mnp\u001B[0m\u001B[1;33m.\u001B[0m\u001B[0mmean\u001B[0m\u001B[1;33m(\u001B[0m\u001B[0mX\u001B[0m\u001B[1;33m,\u001B[0m \u001B[0maxis\u001B[0m\u001B[1;33m=\u001B[0m\u001B[1;36m0\u001B[0m\u001B[1;33m)\u001B[0m\u001B[1;33m\u001B[0m\u001B[0m\n\u001B[0;32m    232\u001B[0m         \u001B[0mX\u001B[0m \u001B[1;33m-=\u001B[0m \u001B[0mself\u001B[0m\u001B[1;33m.\u001B[0m\u001B[0mmean_\u001B[0m\u001B[1;33m\u001B[0m\u001B[0m\n\u001B[1;32m--> 233\u001B[1;33m         \u001B[0mU\u001B[0m\u001B[1;33m,\u001B[0m \u001B[0mS\u001B[0m\u001B[1;33m,\u001B[0m \u001B[0mV\u001B[0m \u001B[1;33m=\u001B[0m \u001B[0mlinalg\u001B[0m\u001B[1;33m.\u001B[0m\u001B[0msvd\u001B[0m\u001B[1;33m(\u001B[0m\u001B[0mX\u001B[0m\u001B[1;33m,\u001B[0m \u001B[0mfull_matrices\u001B[0m\u001B[1;33m=\u001B[0m\u001B[0mFalse\u001B[0m\u001B[1;33m)\u001B[0m\u001B[1;33m\u001B[0m\u001B[0m\n\u001B[0m\u001B[0;32m    234\u001B[0m         \u001B[0mself\u001B[0m\u001B[1;33m.\u001B[0m\u001B[0mexplained_variance_\u001B[0m \u001B[1;33m=\u001B[0m \u001B[1;33m(\u001B[0m\u001B[0mS\u001B[0m \u001B[1;33m**\u001B[0m \u001B[1;36m2\u001B[0m\u001B[1;33m)\u001B[0m \u001B[1;33m/\u001B[0m \u001B[0mn_samples\u001B[0m\u001B[1;33m\u001B[0m\u001B[0m\n\u001B[0;32m    235\u001B[0m         self.explained_variance_ratio_ = (self.explained_variance_ /\n",
      "\u001B[1;32m/home/jan/virt_env/march2013/local/lib/python2.7/site-packages/scipy/linalg/decomp_svd.pyc\u001B[0m in \u001B[0;36msvd\u001B[1;34m(a, full_matrices, compute_uv, overwrite_a)\u001B[0m\n\u001B[0;32m     89\u001B[0m         \u001B[0mlwork\u001B[0m \u001B[1;33m=\u001B[0m \u001B[0mcalc_lwork\u001B[0m\u001B[1;33m.\u001B[0m\u001B[0mgesdd\u001B[0m\u001B[1;33m(\u001B[0m\u001B[0mgesdd\u001B[0m\u001B[1;33m.\u001B[0m\u001B[0mprefix\u001B[0m\u001B[1;33m,\u001B[0m \u001B[0mm\u001B[0m\u001B[1;33m,\u001B[0m \u001B[0mn\u001B[0m\u001B[1;33m,\u001B[0m \u001B[0mcompute_uv\u001B[0m\u001B[1;33m)\u001B[0m\u001B[1;33m[\u001B[0m\u001B[1;36m1\u001B[0m\u001B[1;33m]\u001B[0m\u001B[1;33m\u001B[0m\u001B[0m\n\u001B[0;32m     90\u001B[0m         u,s,v,info = gesdd(a1,compute_uv = compute_uv, lwork = lwork,\n\u001B[1;32m---> 91\u001B[1;33m                            full_matrices=full_matrices, overwrite_a = overwrite_a)\n\u001B[0m\u001B[0;32m     92\u001B[0m     \u001B[1;32melse\u001B[0m\u001B[1;33m:\u001B[0m \u001B[1;31m# 'clapack'\u001B[0m\u001B[1;33m\u001B[0m\u001B[0m\n\u001B[0;32m     93\u001B[0m         \u001B[1;32mraise\u001B[0m \u001B[0mNotImplementedError\u001B[0m\u001B[1;33m(\u001B[0m\u001B[1;34m'calling gesdd from %s'\u001B[0m \u001B[1;33m%\u001B[0m \u001B[0mgesdd\u001B[0m\u001B[1;33m.\u001B[0m\u001B[0mmodule_name\u001B[0m\u001B[1;33m)\u001B[0m\u001B[1;33m\u001B[0m\u001B[0m\n",
      "\u001B[1;31mMemoryError\u001B[0m: "
     ]
    },
    {
     "name": "stdout",
     "output_type": "stream",
     "text": [
      "\n"
     ]
    }
   ],
   "source": [
    "redo = True\n",
    "assert 'sica' in cfgfile\n",
    "animals = [ani for ani in os.listdir(datapath) if ('FRV' in ani)] #('FRV' not in ani)]\n",
    "\n",
    "for animal in animals:\n",
    "    \n",
    "    savelocation = os.path.join(savepath, animal)\n",
    "    savename = os.path.splitext(os.path.basename(cfgfile))[0] + '_' + datafile\n",
    "    if os.path.exists(savelocation):\n",
    "        if os.path.exists(os.path.join(savelocation, savename + '.npy')) and not(redo):\n",
    "            print('%s already done'%animal)\n",
    "            continue\n",
    "    else:\n",
    "        os.makedirs(savelocation)\n",
    "        \n",
    "    filename = os.path.join(datapath, animal, datafile)\n",
    "    ts = ia.TimeSeries()\n",
    "    try:\n",
    "        ts.load(filename)\n",
    "    except IOError:\n",
    "        print('!!! No data for animal %s !!!'%animal)\n",
    "        continue\n",
    "    cfg = ConfigObj(cfgfile, unrepr=True)\n",
    "        \n",
    "    # perform decomposition\n",
    "    decomposer = ia.sICA(**cfg)\n",
    "    decomposition = decomposer(ts)\n",
    "    decomposition.base._series[np.isnan(decomposition.base._series)] = 0 #clear nans\n",
    "   \n",
    "    decomposition.save(os.path.join(savelocation, savename))\n",
    "    print('%s done'%animal)"
   ]
  },
  {
   "cell_type": "markdown",
   "metadata": {},
   "source": [
    "### Plot decomposition overview"
   ]
  },
  {
   "cell_type": "markdown",
   "metadata": {},
   "source": [
    "Plot decompositions for selected animals"
   ]
  },
  {
   "cell_type": "code",
   "execution_count": 30,
   "metadata": {},
   "outputs": [],
   "source": [
    "method = 'sica_200_ios_meas'#'nnmf_200_sm2_convex_negTimelowSP_sp*_ios_meas'\n",
    "draw_sphrois = True\n",
    "animals = [ani for ani in os.listdir(savepath) if ('FRV' not in ani)]"
   ]
  },
  {
   "cell_type": "code",
   "execution_count": 31,
   "metadata": {},
   "outputs": [
    {
     "ename": "AttributeError",
     "evalue": "'NoneType' object has no attribute 'tk'",
     "output_type": "error",
     "traceback": [
      "\u001B[1;31m---------------------------------------------------------------------------\u001B[0m\n\u001B[1;31mAttributeError\u001B[0m                            Traceback (most recent call last)",
      "\u001B[1;32m<ipython-input-31-2682b8034af4>\u001B[0m in \u001B[0;36m<module>\u001B[1;34m()\u001B[0m\n\u001B[0;32m     43\u001B[0m \u001B[1;33m\u001B[0m\u001B[0m\n\u001B[0;32m     44\u001B[0m \u001B[0mfig\u001B[0m\u001B[1;33m.\u001B[0m\u001B[0msavefig\u001B[0m\u001B[1;33m(\u001B[0m\u001B[0mos\u001B[0m\u001B[1;33m.\u001B[0m\u001B[0mpath\u001B[0m\u001B[1;33m.\u001B[0m\u001B[0mjoin\u001B[0m\u001B[1;33m(\u001B[0m\u001B[0msavepath_vis\u001B[0m\u001B[1;33m,\u001B[0m \u001B[0mmethod\u001B[0m\u001B[1;33m+\u001B[0m\u001B[1;34m'.pdf'\u001B[0m\u001B[1;33m)\u001B[0m\u001B[1;33m)\u001B[0m\u001B[1;33m\u001B[0m\u001B[0m\n\u001B[1;32m---> 45\u001B[1;33m \u001B[0mplt\u001B[0m\u001B[1;33m.\u001B[0m\u001B[0mshow\u001B[0m\u001B[1;33m(\u001B[0m\u001B[1;33m)\u001B[0m\u001B[1;33m\u001B[0m\u001B[0m\n\u001B[0m",
      "\u001B[1;32m/home/jan/virt_env/march2013/local/lib/python2.7/site-packages/matplotlib/pyplot.pyc\u001B[0m in \u001B[0;36mshow\u001B[1;34m(*args, **kw)\u001B[0m\n\u001B[0;32m    141\u001B[0m     \"\"\"\n\u001B[0;32m    142\u001B[0m     \u001B[1;32mglobal\u001B[0m \u001B[0m_show\u001B[0m\u001B[1;33m\u001B[0m\u001B[0m\n\u001B[1;32m--> 143\u001B[1;33m     \u001B[0m_show\u001B[0m\u001B[1;33m(\u001B[0m\u001B[1;33m*\u001B[0m\u001B[0margs\u001B[0m\u001B[1;33m,\u001B[0m \u001B[1;33m**\u001B[0m\u001B[0mkw\u001B[0m\u001B[1;33m)\u001B[0m\u001B[1;33m\u001B[0m\u001B[0m\n\u001B[0m\u001B[0;32m    144\u001B[0m \u001B[1;33m\u001B[0m\u001B[0m\n\u001B[0;32m    145\u001B[0m \u001B[1;33m\u001B[0m\u001B[0m\n",
      "\u001B[1;32m/home/jan/virt_env/march2013/local/lib/python2.7/site-packages/matplotlib/backend_bases.pyc\u001B[0m in \u001B[0;36m__call__\u001B[1;34m(self, block)\u001B[0m\n\u001B[0;32m    107\u001B[0m \u001B[1;33m\u001B[0m\u001B[0m\n\u001B[0;32m    108\u001B[0m         \u001B[1;32mif\u001B[0m \u001B[1;32mnot\u001B[0m \u001B[0mis_interactive\u001B[0m\u001B[1;33m(\u001B[0m\u001B[1;33m)\u001B[0m\u001B[1;33m:\u001B[0m\u001B[1;33m\u001B[0m\u001B[0m\n\u001B[1;32m--> 109\u001B[1;33m             \u001B[0mself\u001B[0m\u001B[1;33m.\u001B[0m\u001B[0mmainloop\u001B[0m\u001B[1;33m(\u001B[0m\u001B[1;33m)\u001B[0m\u001B[1;33m\u001B[0m\u001B[0m\n\u001B[0m\u001B[0;32m    110\u001B[0m \u001B[1;33m\u001B[0m\u001B[0m\n\u001B[0;32m    111\u001B[0m     \u001B[1;32mdef\u001B[0m \u001B[0mmainloop\u001B[0m\u001B[1;33m(\u001B[0m\u001B[0mself\u001B[0m\u001B[1;33m)\u001B[0m\u001B[1;33m:\u001B[0m\u001B[1;33m\u001B[0m\u001B[0m\n",
      "\u001B[1;32m/home/jan/virt_env/march2013/local/lib/python2.7/site-packages/matplotlib/backends/backend_tkagg.pyc\u001B[0m in \u001B[0;36mmainloop\u001B[1;34m(self)\u001B[0m\n\u001B[0;32m     67\u001B[0m \u001B[1;32mclass\u001B[0m \u001B[0mShow\u001B[0m\u001B[1;33m(\u001B[0m\u001B[0mShowBase\u001B[0m\u001B[1;33m)\u001B[0m\u001B[1;33m:\u001B[0m\u001B[1;33m\u001B[0m\u001B[0m\n\u001B[0;32m     68\u001B[0m     \u001B[1;32mdef\u001B[0m \u001B[0mmainloop\u001B[0m\u001B[1;33m(\u001B[0m\u001B[0mself\u001B[0m\u001B[1;33m)\u001B[0m\u001B[1;33m:\u001B[0m\u001B[1;33m\u001B[0m\u001B[0m\n\u001B[1;32m---> 69\u001B[1;33m         \u001B[0mTk\u001B[0m\u001B[1;33m.\u001B[0m\u001B[0mmainloop\u001B[0m\u001B[1;33m(\u001B[0m\u001B[1;33m)\u001B[0m\u001B[1;33m\u001B[0m\u001B[0m\n\u001B[0m\u001B[0;32m     70\u001B[0m \u001B[1;33m\u001B[0m\u001B[0m\n\u001B[0;32m     71\u001B[0m \u001B[0mshow\u001B[0m \u001B[1;33m=\u001B[0m \u001B[0mShow\u001B[0m\u001B[1;33m(\u001B[0m\u001B[1;33m)\u001B[0m\u001B[1;33m\u001B[0m\u001B[0m\n",
      "\u001B[1;32m/usr/lib/python2.7/lib-tk/Tkinter.pyc\u001B[0m in \u001B[0;36mmainloop\u001B[1;34m(n)\u001B[0m\n\u001B[0;32m    326\u001B[0m \u001B[1;32mdef\u001B[0m \u001B[0mmainloop\u001B[0m\u001B[1;33m(\u001B[0m\u001B[0mn\u001B[0m\u001B[1;33m=\u001B[0m\u001B[1;36m0\u001B[0m\u001B[1;33m)\u001B[0m\u001B[1;33m:\u001B[0m\u001B[1;33m\u001B[0m\u001B[0m\n\u001B[0;32m    327\u001B[0m     \u001B[1;34m\"\"\"Run the main loop of Tcl.\"\"\"\u001B[0m\u001B[1;33m\u001B[0m\u001B[0m\n\u001B[1;32m--> 328\u001B[1;33m     \u001B[0m_default_root\u001B[0m\u001B[1;33m.\u001B[0m\u001B[0mtk\u001B[0m\u001B[1;33m.\u001B[0m\u001B[0mmainloop\u001B[0m\u001B[1;33m(\u001B[0m\u001B[0mn\u001B[0m\u001B[1;33m)\u001B[0m\u001B[1;33m\u001B[0m\u001B[0m\n\u001B[0m\u001B[0;32m    329\u001B[0m \u001B[1;33m\u001B[0m\u001B[0m\n\u001B[0;32m    330\u001B[0m \u001B[0mgetint\u001B[0m \u001B[1;33m=\u001B[0m \u001B[0mint\u001B[0m\u001B[1;33m\u001B[0m\u001B[0m\n",
      "\u001B[1;31mAttributeError\u001B[0m: 'NoneType' object has no attribute 'tk'"
     ]
    },
    {
     "name": "stdout",
     "output_type": "stream",
     "text": [
      "!!! warning: no repeated stimuli!!!\n"
     ]
    }
   ],
   "source": [
    "rows = np.ceil(len(animals)/5.)\n",
    "fig = plt.figure(figsize=(10, 1.5*int(rows)))\n",
    "plt.subplots_adjust(left=0.02, bottom=0.02, right=0.98, top=0.9)\n",
    "\n",
    "for ix, animal in enumerate(animals):\n",
    "    ax = fig.add_subplot(rows, 5, ix+1)\n",
    "    bg = Image.open(os.path.join(datapath, animal, 'bg.png'))\n",
    "    bg = bg.convert('L')\n",
    "    \n",
    "    mf = ia.TimeSeries()\n",
    "    filename = glob.glob(os.path.join(savepath, animal, method+'.npy'))\n",
    "    assert len(filename) == 1\n",
    "    filename = filename[0].split('.')[0]\n",
    "    mf.load(filename)\n",
    "    \n",
    "    bg = bg.resize(mf.base.shape[::-1])\n",
    "    bg = np.asarray(bg)\n",
    "    if mf.name.split('_')[1] == 'l':\n",
    "        bg = bg[::-1]    \n",
    "       \n",
    "    mf = ia.TrialMean()(ia.CutOut(response_window)(mf))\n",
    "    t2t = ia.CalcStimulusDrive()(mf)._series.squeeze()\n",
    "    \n",
    "    myextent = np.array([0, mf.base.shape[1], mf.base.shape[0], 0])-0.5\n",
    "    ax.imshow(bg, interpolation='none', extent=myextent, cmap=plt.cm.bone)\n",
    "    for ix, base in enumerate(mf.base.shaped2D()):\n",
    "        mycolors = ['c', 'b'] if t2t[ix] <0.4 else ['0.3', '0.7']\n",
    "        if mf.name.split('_')[1] == 'l':\n",
    "            base  = base[::-1]    \n",
    "        ax.contourf(base, [0.3,0.7,1], colors=mycolors, alpha=0.5)\n",
    "    \n",
    "    #show rois\n",
    "    roi_path = os.path.join(datapath, animal, 'rois')\n",
    "    if draw_sphrois and os.path.exists(roi_path+'.npy'):\n",
    "        rois = ia.TimeSeries()\n",
    "        rois.load(roi_path)\n",
    "        for roi in rois.shaped2D():\n",
    "            if mf.name.split('_')[1] == 'l':\n",
    "                roi = roi[::-1]\n",
    "            ax.contour(roi, [0.5], colors=['w'], lw=2)\n",
    "    ax.set_xticks([])\n",
    "    ax.set_yticks([])\n",
    "    ax.set_title(animal, size=8)\n",
    "    \n",
    "fig.savefig(os.path.join(savepath_vis, method+'.pdf'))\n",
    "plt.show()"
   ]
  }
 ],
 "metadata": {
  "kernelspec": {
   "display_name": "Python 3",
   "language": "python",
   "name": "python3"
  },
  "language_info": {
   "codemirror_mode": {
    "name": "ipython",
    "version": 3
   },
   "file_extension": ".py",
   "mimetype": "text/x-python",
   "name": "python",
   "nbconvert_exporter": "python",
   "pygments_lexer": "ipython3",
   "version": "3.8.6"
  }
 },
 "nbformat": 4,
 "nbformat_minor": 1
}