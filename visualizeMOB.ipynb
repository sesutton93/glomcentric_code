{
 "cells": [
  {
   "cell_type": "markdown",
   "metadata": {},
   "source": [
    "# Create odor maps of MOB data"
   ]
  },
  {
   "cell_type": "markdown",
   "metadata": {},
   "source": [
    "Create odormaps sorted by animals and odormaps sorted by odors"
   ]
  },
  {
   "cell_type": "markdown",
   "metadata": {},
   "source": [
    "First we need to set the paths to the code and the data. Update this according to your environment."
   ]
  },
  {
   "cell_type": "code",
   "execution_count": 1,
   "metadata": {},
   "outputs": [],
   "source": [
    "import os\n",
    "import sys\n",
    "curdir = os.path.abspath(os.path.curdir)\n",
    "toplevelpath = os.path.abspath(os.path.join(os.path.curdir, os.path.pardir))\n",
    "sys.path.append(os.path.join(curdir,'FUImaging'))\n",
    "# on jan's environment\n",
    "# FUImaging_path = '/home/jan/Dokumente/Code/FUImaging/'\n",
    "# data_path = '/media/jan/BackupWork/Documents/NewAnalysis/' \n",
    "# on micha's environment\n",
    "#FUImaging_path = os.path.join(os.environ['HOME'], 'Projects','MouseBulb', 'code','FUImaging')\n",
    "#sys.path.append(FUImaging_path)\n",
    "#basepath = os.path.join(os.environ['HOME'], 'Projects','MouseBulb', \"HartwigData\")"
   ]
  },
  {
   "cell_type": "code",
   "execution_count": 2,
   "metadata": {},
   "outputs": [],
   "source": [
    "import os, glob, csv, json, pickle\n",
    "from PIL import Image\n",
    "from collections import defaultdict\n",
    "import matplotlib.pyplot as plt\n",
    "import numpy as np\n",
    "\n",
    "from regnmf import ImageAnalysisComponents as ia"
   ]
  },
  {
   "cell_type": "markdown",
   "metadata": {},
   "source": [
    "### Specify parameter"
   ]
  },
  {
   "cell_type": "code",
   "execution_count": 3,
   "metadata": {},
   "outputs": [],
   "source": [
    "stim_cut = (8,12) #frames averagaed for odor maps [(3,5) for IOS prepro, (8,12) fro sph]\n",
    "draw_sphrois = True #False #\n",
    "filename = 'sph_meas'\n",
    "sort_by_name = True # Display odor maps according to odor identity. Else in order of measurement\n",
    "\n",
    "#basepath = os.path.join('/home/jan/Dokumente/MOBData/')\n",
    "basepath = os.path.realpath('../glomcentric_data')\n",
    "datapath = os.path.join(basepath, 'MOBconverted')\n",
    "savepath_vis = os.path.join(basepath,'Vis')\n",
    "savepath_animalsorted = os.path.join(basepath,'Vis','Measurements')\n",
    "savepath_odorsorted = os.path.join(basepath,'Vis','Odormaps')\n",
    "datadict_path = os.path.join(basepath, 'DataDicts')\n",
    "\n",
    "cas2name = {l[0]:l[1] for l in csv.reader(open(os.path.join(datadict_path,'Name2MomCas.tab')),  delimiter='\\t')}\n",
    "animals = [ani for ani in os.listdir(datapath) if 'FRV' in ani]"
   ]
  },
  {
   "cell_type": "markdown",
   "metadata": {},
   "source": [
    "## Generate odormaps for each animal across odors"
   ]
  },
  {
   "cell_type": "code",
   "execution_count": 4,
   "metadata": {},
   "outputs": [],
   "source": [
    "animals = animals[5:]"
   ]
  },
  {
   "cell_type": "code",
   "execution_count": 5,
   "metadata": {
    "pycharm": {
     "is_executing": true
    }
   },
   "outputs": [
    {
     "name": "stderr",
     "output_type": "stream",
     "text": [
      "<ipython-input-5-5da3e0586bdc>:31: MatplotlibDeprecationWarning: Passing non-integers as three-element position specification is deprecated since 3.3 and will be removed two minor releases later.\n",
      "  ax = fig.add_subplot(rows, 5, 1)\n",
      "<ipython-input-5-5da3e0586bdc>:37: MatplotlibDeprecationWarning: Passing non-integers as three-element position specification is deprecated since 3.3 and will be removed two minor releases later.\n",
      "  ax = fig.add_subplot(rows, 5, oix+2)\n",
      "<ipython-input-5-5da3e0586bdc>:31: MatplotlibDeprecationWarning: Passing non-integers as three-element position specification is deprecated since 3.3 and will be removed two minor releases later.\n",
      "  ax = fig.add_subplot(rows, 5, 1)\n",
      "<ipython-input-5-5da3e0586bdc>:37: MatplotlibDeprecationWarning: Passing non-integers as three-element position specification is deprecated since 3.3 and will be removed two minor releases later.\n",
      "  ax = fig.add_subplot(rows, 5, oix+2)\n",
      "<ipython-input-5-5da3e0586bdc>:31: MatplotlibDeprecationWarning: Passing non-integers as three-element position specification is deprecated since 3.3 and will be removed two minor releases later.\n",
      "  ax = fig.add_subplot(rows, 5, 1)\n",
      "<ipython-input-5-5da3e0586bdc>:37: MatplotlibDeprecationWarning: Passing non-integers as three-element position specification is deprecated since 3.3 and will be removed two minor releases later.\n",
      "  ax = fig.add_subplot(rows, 5, oix+2)\n"
     ]
    }
   ],
   "source": [
    "for animal in np.sort(animals):\n",
    "    \n",
    "    bgpath = os.path.join(datapath, animal, 'bg.png')\n",
    "    if os.path.exists(bgpath):\n",
    "        bg = Image.open(bgpath)\n",
    "        bg = bg.convert('L')\n",
    "    else:\n",
    "        bgpath=False\n",
    "    \n",
    "    fileloc = os.path.join(datapath, animal, filename)\n",
    "    ts = ia.TimeSeries()\n",
    "    ts.load(fileloc)\n",
    "    ts = ia.TrialMean()(ia.CutOut(stim_cut)(ts))\n",
    "    if sort_by_name:\n",
    "        order_ix = np.argsort(ts.label_stimuli)\n",
    "        ts = ia.SelectTrials()(ts, order_ix)\n",
    "    \n",
    "    if bgpath:\n",
    "        bg = bg.resize(ts.shape[::-1])\n",
    "        bg = np.asarray(bg)\n",
    "    \n",
    "    if draw_sphrois:\n",
    "        rois = ia.TimeSeries()\n",
    "        rois.load(os.path.join(datapath, animal, 'rois'))\n",
    "    \n",
    "    rows = np.ceil((len(ts.label_stimuli)+1)/5.)\n",
    "    fig = plt.figure(figsize=(10, 1.5*int(rows)))\n",
    "    plt.subplots_adjust(left=0.02, bottom=0.02, right=0.98, top=0.95)\n",
    "    \n",
    "    if bgpath:\n",
    "        ax = fig.add_subplot(rows, 5, 1)\n",
    "        ax.imshow(bg, origin='upper', cmap=plt.cm.bone)\n",
    "        ax.set_xticks([])\n",
    "        ax.set_yticks([])\n",
    "\n",
    "    for oix, odormap in enumerate(ts.shaped2D()):\n",
    "        ax = fig.add_subplot(rows, 5, oix+2)\n",
    "        amax = np.percentile(np.abs(odormap),99.8)\n",
    "        ax.imshow(odormap, vmin=-amax, vmax=amax, interpolation='none', origin='upper')\n",
    "        if draw_sphrois:\n",
    "            for roi in rois.shaped2D():\n",
    "                ax.contour(roi, [0.5], colors=['w'])\n",
    "        else:\n",
    "            ax.contour(bg, [np.percentile(bg.flatten(),99.5)], colors=['w'])\n",
    "        ax.set_xticks([])\n",
    "        ax.set_yticks([])\n",
    "        stim_name = ts.label_stimuli[oix].split('_')\n",
    "        title = cas2name[stim_name[0]]\n",
    "        if len(stim_name)>1:\n",
    "            title = title + ' (%s)'%';'.join(stim_name[1:])\n",
    "        \n",
    "        ax.set_title(title, size=5)\n",
    "        ax.set_ylabel('id:%s, max:%.2f'%(stim_name[0],amax), size=5)\n",
    "    if not os.path.exists(savepath_animalsorted):\n",
    "        os.makedirs(savepath_animalsorted)\n",
    "    fig.savefig(os.path.join(savepath_animalsorted, animal+'.pdf'))\n",
    "    plt.close('all')   "
   ]
  },
  {
   "cell_type": "markdown",
   "metadata": {},
   "source": [
    "## Generate odormaps for each odor across animals"
   ]
  },
  {
   "cell_type": "markdown",
   "metadata": {},
   "source": [
    "Define function to clear stimuli labels. Thus it determines which stimuli are grouped together. Currently remove 'rechts'/'links' labels, as they correspond to syringe used. And '50grad' as there is no visible effect"
   ]
  },
  {
   "cell_type": "code",
   "execution_count": 6,
   "metadata": {
    "pycharm": {
     "is_executing": true
    }
   },
   "outputs": [],
   "source": [
    "to_remove = ['rechts','links','re','li','50grad']\n",
    "\n",
    "def clear_label(label):\n",
    "    if '_' in label:\n",
    "        label_split = label.split('_')\n",
    "        for remove in set(to_remove).intersection(label_split):\n",
    "            label_split.remove(remove)\n",
    "        label = '_'.join(label_split)\n",
    "    return label   "
   ]
  },
  {
   "cell_type": "markdown",
   "metadata": {},
   "source": [
    "Define function to convert CAS stimuli names to Odor stimuli names"
   ]
  },
  {
   "cell_type": "code",
   "execution_count": 7,
   "metadata": {
    "pycharm": {
     "is_executing": true
    }
   },
   "outputs": [],
   "source": [
    "def convert_cas2name(cas_stim):\n",
    "    stim_parts = cas_stim.split('_')\n",
    "    title = cas2name[stim_parts[0]]\n",
    "    if len(stim_parts)>1:\n",
    "        title = title + ' (%s)'%';'.join(stim_parts[1:])\n",
    "    return title"
   ]
  },
  {
   "cell_type": "markdown",
   "metadata": {},
   "source": [
    "#### collect odormaps"
   ]
  },
  {
   "cell_type": "code",
   "execution_count": 8,
   "metadata": {
    "pycharm": {
     "is_executing": true
    }
   },
   "outputs": [],
   "source": [
    "odormaps = defaultdict(list)\n",
    "for animal in np.sort(animals):\n",
    "       \n",
    "    fileloc = os.path.join(datapath, animal, filename)\n",
    "    ts = ia.TimeSeries()\n",
    "    ts.load(fileloc)\n",
    "    ts.label_stimuli = [clear_label(i) for i in ts.label_stimuli]\n",
    "    ts = ia.SingleSampleResponse()(ia.TrialMean()(ia.CutOut(stim_cut)(ts)))\n",
    "       \n",
    "    for oix, odormap in enumerate(ts.shaped2D()):\n",
    "        if 'l' in ts.name: odormap = odormap[::-1] #mirror image if from left bulb \n",
    "        odormaps[ts.label_stimuli[oix]].append((odormap, ts.name))"
   ]
  },
  {
   "cell_type": "markdown",
   "metadata": {},
   "source": [
    "#### Draw odormaps"
   ]
  },
  {
   "cell_type": "code",
   "execution_count": 9,
   "metadata": {
    "pycharm": {
     "is_executing": true
    }
   },
   "outputs": [],
   "source": [
    "for odor, data in odormaps.items():\n",
    "    \n",
    "    title = convert_cas2name(odor)  \n",
    "    \n",
    "    rows = int(np.ceil(len(data)/5.))\n",
    "    fig = plt.figure(figsize=(10, 1.5*rows))\n",
    "    plt.subplots_adjust(left=0.02, bottom=0.02, right=0.98, top=0.8)\n",
    "    \n",
    "    \n",
    "    for oix, (odormap, label) in enumerate(data):\n",
    "        ax = fig.add_subplot(rows, 5, oix+1)\n",
    "        amax = np.percentile(np.abs(odormap),99.8)\n",
    "        ax.imshow(odormap, vmin=-amax, vmax=amax, interpolation='none', origin='upper')\n",
    "\n",
    "        ax.set_xticks([])\n",
    "        ax.set_yticks([])\n",
    "        \n",
    "        ax.set_title(label, size=5)\n",
    "        ax.set_ylabel('max:%.2f'%amax, size=5)\n",
    "        \n",
    "    fig.suptitle(title)\n",
    "    if not os.path.exists(savepath_odorsorted):\n",
    "        os.makedirs(savepath_odorsorted)\n",
    "    fig.savefig(os.path.join(savepath_odorsorted, title + '.pdf'))\n",
    "    plt.close('all')   "
   ]
  },
  {
   "cell_type": "markdown",
   "metadata": {},
   "source": [
    "## Generate overview matrix of animals and odors"
   ]
  },
  {
   "cell_type": "markdown",
   "metadata": {},
   "source": [
    "#### Create measurement matrix, one dimension animals (sorted by data) and the other dimesion odors (sorted by first measurement)"
   ]
  },
  {
   "cell_type": "code",
   "execution_count": 10,
   "metadata": {
    "pycharm": {
     "is_executing": true
    }
   },
   "outputs": [],
   "source": [
    "odors = list(odormaps.keys())\n",
    "animals = [i.split('_')[0] for i in np.sort(animals)]\n",
    "\n",
    "#collect first appearence of odor\n",
    "min_animal = []\n",
    "for odor in odors:\n",
    "    min_animal.append(np.sort([o[1].split('_')[0] for o in odormaps[odor]])[0])\n",
    "\n",
    "# sort odors for first appearence\n",
    "odors = [odors[i] for i in np.argsort(min_animal)]\n",
    "\n",
    "#create existence matrix odors x animals\n",
    "matrix = []\n",
    "for odor in odors:\n",
    "    temp = np.zeros(len(animals))\n",
    "    for animal in [o[1].split('_')[0] for o in odormaps[odor]]:\n",
    "        temp[animals.index(animal)] = 1\n",
    "    matrix.append(temp)\n",
    "matrix = np.array(matrix)"
   ]
  },
  {
   "cell_type": "markdown",
   "metadata": {},
   "source": [
    "#### Assing each odor a heritage (i.e. round of iteration)"
   ]
  },
  {
   "cell_type": "markdown",
   "metadata": {},
   "source": [
    "Read in csv file with heritage data"
   ]
  },
  {
   "cell_type": "code",
   "execution_count": 11,
   "metadata": {
    "pycharm": {
     "is_executing": true
    }
   },
   "outputs": [],
   "source": [
    "csvreader =  csv.reader(open(os.path.join(datadict_path, 'iterations.tab')),  delimiter='\\t')\n",
    "headings = next(csvreader)[2:]\n",
    "cas2iteration = {l[0]:l[2:] for l in csvreader}"
   ]
  },
  {
   "cell_type": "markdown",
   "metadata": {},
   "source": [
    "Extract first occurence for all odors from heritage dictionary. If an odor is not included in the heritage dictionary, it is regarded as an compound odor  "
   ]
  },
  {
   "cell_type": "code",
   "execution_count": 12,
   "metadata": {
    "pycharm": {
     "is_executing": true
    }
   },
   "outputs": [],
   "source": [
    "verbose = 0 #set True to print warnings\n",
    "\n",
    "def first_entry_in_list(mylist, headings):\n",
    "    for ix, entry in enumerate(mylist):\n",
    "        if entry:\n",
    "            return headings[ix]\n",
    "    return 'train'\n",
    "\n",
    "iteration = []\n",
    "for odor in odors:\n",
    "    odor_parts = odor.split('_')\n",
    "    odor = odor_parts[0].strip()\n",
    "    if 'o' in odor_parts:\n",
    "        odor_parts.remove('o')\n",
    "    if len(odor_parts)<2 and (odor in cas2iteration):\n",
    "        iteration.append(first_entry_in_list(cas2iteration[odor], headings))\n",
    "    else:\n",
    "        iteration.append('compound')\n",
    "        if verbose:\n",
    "            print('Warning: no entry for %s, marked as compound'%('_'.join(odor_parts)))\n",
    "iteration = np.array(iteration)"
   ]
  },
  {
   "cell_type": "markdown",
   "metadata": {},
   "source": [
    "Plot the measurement matrix. Color each odor according to its heritage."
   ]
  },
  {
   "cell_type": "code",
   "execution_count": 13,
   "metadata": {
    "pycharm": {
     "is_executing": true
    }
   },
   "outputs": [
    {
     "data": {
      "image/png": "[encoded data removed]",
      "text/plain": [
       "<Figure size 864x2520 with 1 Axes>"
      ]
     },
     "metadata": {},
     "output_type": "display_data"
    }
   ],
   "source": [
    "heritagecolors = {'train' : 'b', 'elsewhere': np.array((72,61,139))/255., '1stIteration': np.array((0,255,0))/255.,\n",
    "              '2ndIteration': np.array((34,139,34))/255., '3rdIteration': np.array((85,107,47))/255., 'compound':'k'}\n",
    "\n",
    "fig = plt.figure(figsize=(12, 35))\n",
    "ax = fig.add_axes([0.2,0.02,0.75,0.9])\n",
    "\n",
    "ax.imshow(matrix, interpolation='none', aspect='auto', cmap=plt.cm.binary)\n",
    "ax.set_yticks(np.arange(matrix.shape[0])+0.5)\n",
    "ax.set_yticklabels([convert_cas2name(o) for o in odors], size=7, va='bottom')\n",
    "ax.set_xticks(np.arange(matrix.shape[1])+0.5, minor=True)\n",
    "ax.xaxis.set_tick_params('minor', labelbottom=False, labeltop=True)\n",
    "ax.set_xticklabels(animals, size=7, rotation='90', ha='right', minor=True)\n",
    "for ix, tick in enumerate(ax.yaxis.get_ticklabels()):\n",
    "    tick.set_color(heritagecolors[iteration[ix]])\n",
    "ax.set_xticks(np.arange(5,matrix.shape[1],5)+0.5)\n",
    "ax.set_xticklabels([])\n",
    "ax.grid()\n",
    "\n",
    "for ix, (label, color) in enumerate(heritagecolors.items()):\n",
    "    fig.text(0.05, 0.97-ix*0.005, label, color=color, ha='left', size=10)\n",
    "    \n",
    "\n",
    "fig.savefig(os.path.join(savepath_vis, 'Measurements.pdf'))\n",
    "plt.show()"
   ]
  },
  {
   "cell_type": "code",
   "execution_count": null,
   "metadata": {
    "pycharm": {
     "is_executing": true,
     "name": "#%%\n"
    }
   },
   "outputs": [],
   "source": []
  }
 ],
 "metadata": {
  "kernelspec": {
   "display_name": "Python 3",
   "language": "python",
   "name": "python3"
  },
  "language_info": {
   "codemirror_mode": {
    "name": "ipython",
    "version": 3
   },
   "file_extension": ".py",
   "mimetype": "text/x-python",
   "name": "python",
   "nbconvert_exporter": "python",
   "pygments_lexer": "ipython3",
   "version": "3.8.6"
  }
 },
 "nbformat": 4,
 "nbformat_minor": 1
}
