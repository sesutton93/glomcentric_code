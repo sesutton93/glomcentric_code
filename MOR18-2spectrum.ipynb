{
 "cells": [
  {
   "cell_type": "markdown",
   "metadata": {},
   "source": [
    "# Obtain MOR18-2 spectrum from factorization"
   ]
  },
  {
   "cell_type": "code",
   "execution_count": 10,
   "metadata": {},
   "outputs": [],
   "source": [
    "import sys\n",
    "import os\n",
    "curdir = os.path.abspath(os.path.curdir)\n",
    "sys.path.append(os.path.join(curdir,'FUImaging'))"
   ]
  },
  {
   "cell_type": "code",
   "execution_count": 11,
   "metadata": {},
   "outputs": [],
   "source": [
    "import matplotlib.pyplot as plt\n",
    "import matplotlib\n",
    "import numpy as np\n",
    "import os, glob, json, pickle, csv\n",
    "import scipy.stats\n",
    "from collections import defaultdict\n",
    "from PIL import Image\n",
    "\n",
    "\n",
    "from regnmf import ImageAnalysisComponents as ia\n",
    "from ModeSelector import AssignMode"
   ]
  },
  {
   "cell_type": "markdown",
   "metadata": {},
   "source": [
    "### Specify parameter"
   ]
  },
  {
   "cell_type": "code",
   "execution_count": 12,
   "metadata": {},
   "outputs": [],
   "source": [
    "stim_window = (3,5)\n",
    "\n",
    "#method mask for components to be used. Use string with files to be opened. Use wildmark '*' for changing values.\n",
    "method =  'nnmf_200_sm2_convex_negTimelowSP_sp*_ios_meas' #'sica_200_ios_meas' #\n",
    "\n",
    "# datalocations [if you use the standard scheme, only modify basepath]\n",
    "basepath = os.path.join('/media/jan/BackupWork/Documents/NewAnalysis')\n",
    "data_location = os.path.join(basepath, 'MOBdecomposed')\n",
    "bg_location = os.path.join(basepath, 'MOBconverted')\n",
    "aliasfile = os.path.join(basepath, 'DataDicts', 'alias.json')\n",
    "datadict_path = os.path.join(basepath, 'DataDicts')\n",
    "savepath182modes = os.path.join(basepath, 'Vis', 'MOR18-2modes')\n",
    "mor182spec_file = os.path.join(basepath, 'DataDicts', 'MOR18-2spec.json')\n",
    "savepath182spec = os.path.join(basepath, 'Vis', 'MOR18-2spec')"
   ]
  },
  {
   "cell_type": "code",
   "execution_count": 13,
   "metadata": {},
   "outputs": [],
   "source": [
    "animals = [a for a in os.listdir(data_location) if 'sph' not in a]"
   ]
  },
  {
   "cell_type": "markdown",
   "metadata": {},
   "source": [
    "### GUI to manually assign MOR18-2 mode"
   ]
  },
  {
   "cell_type": "markdown",
   "metadata": {},
   "source": [
    "Load or create dictionary with mode label (alias)"
   ]
  },
  {
   "cell_type": "code",
   "execution_count": 14,
   "metadata": {},
   "outputs": [],
   "source": [
    "if os.path.exists(aliasfile):\n",
    "    alias_dict = json.load(open(aliasfile))\n",
    "else:\n",
    "    alias_dict = {}\n",
    "if method not in alias_dict:\n",
    "    alias_dict[method]={}"
   ]
  },
  {
   "cell_type": "markdown",
   "metadata": {},
   "source": [
    "Left panel shows all extracted modes (blue modes with high stimulus correlation >0.5, grey all others). Right panel shows currently selected mode. Press any pixel to select the mode, most strongly participation in this pixel. Hit button to mark current mode as MOR18-2 mode (becomes red-yellow)"
   ]
  },
  {
   "cell_type": "code",
   "execution_count": 18,
   "metadata": {},
   "outputs": [
    {
     "name": "stdout",
     "output_type": "stream",
     "text": [
      "!!! warning: no repeated stimuli!!!\n"
     ]
    }
   ],
   "source": [
    "for animal in np.sort(animals):\n",
    "    bg = plt.imread(os.path.join(bg_location, animal, 'bg.png'))\n",
    "    ts = ia.TimeSeries()\n",
    "\n",
    "    filename = glob.glob(os.path.join(data_location, animal, method+'.npy'))\n",
    "    assert len(filename)==1\n",
    "    filename = filename[0].split('.')[0]\n",
    "    ts.load(filename)\n",
    "    \n",
    "    odor_response = ia.TrialMean()(ia.CutOut(stim_window)(ts))\n",
    "    ts.t2t = ia.CalcStimulusDrive()(odor_response)._series.squeeze() \n",
    "      \n",
    "    if (animal in alias_dict[method]):\n",
    "        alias_method = alias_dict[method][animal]\n",
    "    else:\n",
    "        alias_method = {}\n",
    "    selector = AssignMode({'mf':ts, 'bg':bg, 'alias':alias_method})\n",
    "    plt.show()\n",
    "    if selector.alias:\n",
    "        alias_dict[method][animal]=selector.alias\n",
    "    elif animal in alias_dict[method]:\n",
    "        alias_dict[method].pop(animal)"
   ]
  },
  {
   "cell_type": "markdown",
   "metadata": {},
   "source": [
    "save the assignment"
   ]
  },
  {
   "cell_type": "code",
   "execution_count": 19,
   "metadata": {},
   "outputs": [],
   "source": [
    "json.dump(alias_dict, open(aliasfile, 'w'))"
   ]
  },
  {
   "cell_type": "markdown",
   "metadata": {},
   "source": [
    "### Summarize extracted modes for methods"
   ]
  },
  {
   "cell_type": "code",
   "execution_count": 15,
   "metadata": {},
   "outputs": [
    {
     "name": "stdout",
     "output_type": "stream",
     "text": [
      "nnmf_200_sm2_convex_neg_sp*_ios_meas with 48 identified MOR18-2 modes\n",
      "nnmf_200_sm2_convex_negTime_sp*_ios_meas with 45 identified MOR18-2 modes\n",
      "nnmf_200_sm2_convex_negTimelowSP_sp*_ios_meas with 51 identified MOR18-2 modes\n",
      "sica_200_ios_meas with 44 identified MOR18-2 modes\n"
     ]
    }
   ],
   "source": [
    "for k, v in alias_dict.items():\n",
    "    print('%s with %d identified MOR18-2 modes'%(k, len(v)))"
   ]
  },
  {
   "cell_type": "markdown",
   "metadata": {},
   "source": [
    "### Plot all extracted MOR18-2 modes"
   ]
  },
  {
   "cell_type": "code",
   "execution_count": 21,
   "metadata": {},
   "outputs": [],
   "source": [
    "methods = alias_dict.keys()\n",
    "\n",
    "for method in methods:\n",
    "    fig = plt.figure(figsize=(20, 3*len(alias_dict[method])))\n",
    "    gs = matplotlib.gridspec.GridSpec(len(alias_dict[method]),1, left=0.02, hspace=0.7, top=0.97, right=0.99)\n",
    "    \n",
    "    modecolors = ['g','b','c']\n",
    "    for ix, animal in enumerate(np.sort(alias_dict[method].keys())):\n",
    "        gs_inner = matplotlib.gridspec.GridSpecFromSubplotSpec(1,2, subplot_spec=gs[ix], width_ratios=(2,8))\n",
    "        ax = fig.add_subplot(gs_inner[0])    \n",
    "        bg = Image.open(os.path.join(bg_location, animal, 'bg.png'))\n",
    "        bg = bg.convert('L')\n",
    "        \n",
    "        mf = ia.TimeSeries()\n",
    "        filename = glob.glob(os.path.join(data_location, animal, method+'.npy'))\n",
    "        assert len(filename) == 1\n",
    "        filename = filename[0].split('.')[0]\n",
    "        mf.load(filename)\n",
    "        \n",
    "        bg = bg.resize(mf.base.shape[::-1])\n",
    "        bg = np.asarray(bg)\n",
    "        \n",
    "        mf = ia.SingleSampleResponse()(ia.TrialMean()(ia.CutOut(stim_window)(mf)))\n",
    "        order_ix = np.argsort(mf.label_stimuli)\n",
    "        mf = ia.SelectTrials()(mf, order_ix)\n",
    "        \n",
    "        myextent = np.array([0, mf.base.shape[1], mf.base.shape[0], 0])-0.5\n",
    "        ax.imshow(bg, interpolation='none', extent=myextent, cmap=plt.cm.bone)\n",
    "        for ix, base_ix in enumerate(alias_dict[method][animal]['MOR18-2']):\n",
    "            ax.contour(mf.base.shaped2D()[base_ix], [-0.3,0.3,0.7], colors=['m']+2*[modecolors[ix]], lw=2)\n",
    "        ax.set_xticks([])\n",
    "        ax.set_yticks([])\n",
    "        ax.set_ylabel(animal)\n",
    "        \n",
    "        ax = fig.add_subplot(gs_inner[1])\n",
    "        for ix, base_ix in enumerate(alias_dict[method][animal]['MOR18-2']):\n",
    "            ax.plot(mf.matrix_shaped()[:,base_ix], color=modecolors[ix])\n",
    "        ax.set_xticks(range(len(order_ix)))\n",
    "        ax.set_xticklabels(mf.label_stimuli, rotation='45', ha='right', size=10)\n",
    "        ax.set_xlim((-0.5,len(order_ix)-0.5))\n",
    "        ax.set_yticks([0,0.5])\n",
    "        \n",
    "    fig.savefig(os.path.join(savepath182modes, method+'.pdf'))\n",
    "    plt.close('all')"
   ]
  },
  {
   "cell_type": "markdown",
   "metadata": {},
   "source": [
    "### Collect and norm 18-2 response spectra "
   ]
  },
  {
   "cell_type": "code",
   "execution_count": 16,
   "metadata": {},
   "outputs": [],
   "source": [
    "norm_to = '554-12-1' #'554-12-1' for Methyl propionate, None for unormed responses\n",
    "response_thres = 0.2 #exclude all modes where response to norm_to is below this [promille]\n",
    "skip = ['110623s'] #animals to skip ('110623s' no undiluted odor)"
   ]
  },
  {
   "cell_type": "markdown",
   "metadata": {},
   "source": [
    "Define function to clear stimuli labels. Thus it determines which stimuli are grouped together. Currently remove 'rechts'/'links' labels, as they correspond to syringe used. And '50grad' as there is no visible effect. Same with old label (marks an old sample of Acetaldehyde)"
   ]
  },
  {
   "cell_type": "code",
   "execution_count": 17,
   "metadata": {},
   "outputs": [],
   "source": [
    "to_remove = ['rechts','links','re','li','50grad','old', 'o']\n",
    "\n",
    "def clear_label(label):\n",
    "    if '_' in label:\n",
    "        label_split = label.split('_')\n",
    "    for remove in set(to_remove).intersection(label_split):\n",
    "        label_split.remove(remove)\n",
    "    label = '_'.join(label_split)\n",
    "    return label"
   ]
  },
  {
   "cell_type": "markdown",
   "metadata": {},
   "source": [
    "calculate normed response spec"
   ]
  },
  {
   "cell_type": "code",
   "execution_count": 18,
   "metadata": {},
   "outputs": [
    {
     "name": "stdout",
     "output_type": "stream",
     "text": [
      "=========== nnmf_200_sm2_convex_neg_sp*_ios_meas ============\n",
      "090331l: mode 0 (of 1) excluded\n",
      "090331r: mode 0 (of 1) excluded\n",
      "090414r: mode 0 (of 1) excluded\n",
      "100212: mode 0 (of 1) excluded\n",
      "100215: mode 1 (of 3) excluded\n",
      "100225: mode 0 (of 1) excluded\n",
      "110616b: mode 0 (of 1) excluded\n",
      "120119: mode 0 (of 1) excluded\n",
      "=========== nnmf_200_sm2_convex_negTime_sp*_ios_meas ============\n",
      "090331l: mode 0 (of 1) excluded\n",
      "100212: mode 0 (of 1) excluded\n",
      "100215: mode 1 (of 3) excluded\n",
      "100225: mode 0 (of 1) excluded\n",
      "110616b: mode 0 (of 1) excluded\n",
      "120119: mode 0 (of 2) excluded\n",
      "120119: mode 1 (of 2) excluded\n",
      "=========== nnmf_200_sm2_convex_negTimelowSP_sp*_ios_meas ============\n",
      "090331l: mode 0 (of 1) excluded\n",
      "090402l: mode 0 (of 1) excluded\n",
      "090414l: mode 0 (of 2) excluded\n",
      "090414l: mode 1 (of 2) excluded\n",
      "090414r: mode 0 (of 1) excluded\n",
      "090819: mode 0 (of 1) excluded\n",
      "100212: mode 0 (of 1) excluded\n",
      "100225: mode 0 (of 1) excluded\n",
      "110518: mode 0 (of 1) excluded\n",
      "110616b: mode 0 (of 1) excluded\n",
      "110727a: mode 1 (of 2) excluded\n",
      "120119: mode 0 (of 2) excluded\n",
      "120119: mode 1 (of 2) excluded\n",
      "=========== sica_200_ios_meas ============\n",
      "090331l: mode 0 (of 1) excluded\n",
      "090402r: mode 0 (of 2) excluded\n",
      "090402r: mode 1 (of 2) excluded\n",
      "120119: mode 0 (of 1) excluded\n"
     ]
    }
   ],
   "source": [
    "# load existing MOR18-2 spec\n",
    "if os.path.exists(mor182spec_file):\n",
    "    mor182spec = json.load(open(mor182spec_file))\n",
    "else:\n",
    "    mor182spec = {}\n",
    "\n",
    "for method in alias_dict:\n",
    "    print('=========== %s ============'%method)\n",
    "    response_dict = defaultdict(list)\n",
    "    for ix, animal in enumerate(np.sort(alias_dict[method].keys())):\n",
    "        if animal in skip: \n",
    "            continue\n",
    "        \n",
    "        mf = ia.TimeSeries()\n",
    "        filename = glob.glob(os.path.join(data_location, animal, method+'.npy'))\n",
    "        assert len(filename) == 1\n",
    "        filename = filename[0].split('.')[0]\n",
    "        mf.load(filename)\n",
    "      \n",
    "        mf.label_stimuli = [clear_label(i) for i in mf.label_stimuli]\n",
    "        mf = ia.SingleSampleResponse()(ia.TrialMean()(ia.CutOut(stim_window)(mf)))        \n",
    "      \n",
    "        for ix, base_ix in enumerate(alias_dict[method][animal]['MOR18-2']):\n",
    "            resp = mf._series[:,base_ix]\n",
    "            # normieren\n",
    "            if norm_to:\n",
    "                if resp[mf.label_stimuli.index(norm_to)]>response_thres:\n",
    "                    resp /= resp[mf.label_stimuli.index(norm_to)]\n",
    "                    [response_dict[k].append(v) for k,v in zip(mf.label_stimuli, resp)]\n",
    "                else:\n",
    "                    print('%s: mode %d (of %d) excluded'%(animal,ix,len(alias_dict[method][animal]['MOR18-2'])))\n",
    "            else:\n",
    "                [response_dict[k].append(v) for k,v in zip(mf.label_stimuli, resp)] \n",
    "    nameadd = 'normed' if norm_to else ''\n",
    "    mor182spec[method+nameadd] = response_dict\n",
    "json.dump(mor182spec, open(mor182spec_file, 'w'))"
   ]
  },
  {
   "cell_type": "markdown",
   "metadata": {},
   "source": [
    "## Plot spectra"
   ]
  },
  {
   "cell_type": "code",
   "execution_count": 27,
   "metadata": {},
   "outputs": [],
   "source": [
    "method =  'nnmf_200_sm2_convex_negTimelowSP_sp*_ios_measnormed'\n",
    "average_function = np.median"
   ]
  },
  {
   "cell_type": "code",
   "execution_count": 28,
   "metadata": {},
   "outputs": [],
   "source": [
    "def condense_list_dict(dic, reducefct=np.mean):\n",
    "    ''' apply reducefct to every value of dictionary'''\n",
    "    reduced_dict = {}\n",
    "    for k, v in dic.items():\n",
    "        reduced_dict[k] = reducefct(v)\n",
    "    return reduced_dict"
   ]
  },
  {
   "cell_type": "markdown",
   "metadata": {},
   "source": [
    "#### Select relevant odors and sort according to avarage strength"
   ]
  },
  {
   "cell_type": "code",
   "execution_count": 29,
   "metadata": {},
   "outputs": [],
   "source": [
    "#Select only pure odors. Hack! All mixtures contain either E or A \n",
    "pure_odors = [o for o in mor182spec[method].keys() if (len(o.split('_'))<2) and ('E' not in o) and ('A' not in o) and  ('B' not in o) ] \n",
    "pure_odor_resp = [average_function(mor182spec[method][o]) for o in pure_odors]\n",
    "odors_sorted = [pure_odors[i] for i in np.argsort(pure_odor_resp)]\n",
    "spec = [average_function(mor182spec[method][i]) for i in odors_sorted]"
   ]
  },
  {
   "cell_type": "code",
   "execution_count": 38,
   "metadata": {},
   "outputs": [
    {
     "name": "stdout",
     "output_type": "stream",
     "text": [
      "Trimethyl phosphite -0.324269253216\n",
      "3-Methylbut-2-enyl formate -0.173342433181\n",
      "Anisole -0.132288523092\n",
      "2-Methyl-2-pentenal -0.130215365022\n",
      "Methyl isopropyl carbonate -0.08994051697\n",
      "Benzaldehyde -0.0597079996151\n",
      "Methyl formate 0.133754372053\n",
      "2,3-Heptanedione 0.156884540954\n",
      "amyl butyrate, mixture of isomers 0.16083703698\n",
      "Isobutyltiglate 0.169596855629\n",
      "Hexyl butyrate 0.173017600338\n",
      "Isopropyl acetate 0.229456681463\n",
      "Isobutyl propionate 0.230997435629\n",
      "1-Ethylhexyl tiglate 0.267660181483\n",
      "Allyl tiglate 0.268373165351\n",
      "Ethyl acrylate 0.291821579071\n",
      "Pyruvaldehyde 0.297462864492\n",
      "Paraldehyde 0.309441537359\n",
      "Ethyl formate 0.371104843884\n",
      "Butyl acetate 0.500218760844\n",
      "Propyl propionate 0.553256434215\n",
      "Isobutyl acetate 0.583339530604\n",
      "Allyl propionate 0.660015718688\n",
      "Acetaldehyde 0.748555772007\n",
      "Ethyl propionate 0.89593860875\n",
      "Methyl acetate 0.971264294331\n",
      "Propyl acetate 0.98025843292\n",
      "Methyl propionate 1.0\n",
      "Ethyl acetate 1.09808331797\n",
      "Allyl acetate 1.13644434093\n"
     ]
    }
   ],
   "source": [
    "for i in np.where(p_val_argon<0.001)[0]:\n",
    " print(cas2name[odors_sorted[i]], spec[i])"
   ]
  },
  {
   "cell_type": "markdown",
   "metadata": {},
   "source": [
    "#### Calculate significance of response to Argon ('7440-37-1') and 2M2P ('623-36-9')"
   ]
  },
  {
   "cell_type": "code",
   "execution_count": 30,
   "metadata": {},
   "outputs": [],
   "source": [
    "test = scipy.stats.mannwhitneyu#scipy.stats.ttest_ind #\n",
    "\n",
    "p_val_argon = np.array([test(mor182spec[method]['7440-37-1'], mor182spec[method][i]) for i in odors_sorted])[:,1]\n",
    "p_val_argon[np.isnan(p_val_argon)] = 1\n",
    "p_val_argon[p_val_argon>0.05] = 1\n",
    "\n",
    "p_val_2m2p = np.array([test(mor182spec[method]['623-36-9'], mor182spec[method][i]) for i in odors_sorted])[:,1]\n",
    "p_val_2m2p[np.isnan(p_val_2m2p)] = 1\n",
    "p_val_2m2p[p_val_2m2p>0.05] = 1"
   ]
  },
  {
   "cell_type": "markdown",
   "metadata": {},
   "source": [
    "load odor names"
   ]
  },
  {
   "cell_type": "code",
   "execution_count": 31,
   "metadata": {},
   "outputs": [],
   "source": [
    "cas2name = {l[0]:l[1] for l in csv.reader(open(os.path.join(datadict_path,'Name2MomCas.tab')),  delimiter='\\t')}"
   ]
  },
  {
   "cell_type": "markdown",
   "metadata": {},
   "source": [
    "#### Get heritage data of odors (how they where introduced into measurement set)"
   ]
  },
  {
   "cell_type": "code",
   "execution_count": 32,
   "metadata": {},
   "outputs": [],
   "source": [
    "csvreader =  csv.reader(open(os.path.join(datadict_path, 'iterations.tab')),  delimiter='\\t')\n",
    "headings = csvreader.next()[2:]\n",
    "cas2iteration = {l[0]:l[2:] for l in csvreader}\n",
    "\n",
    "\n",
    "def first_entry_in_list(mylist, headings):\n",
    "    for ix, entry in enumerate(mylist):\n",
    "        if entry:\n",
    "            return headings[ix]\n",
    "    return 'train'\n",
    "\n",
    "iteration = np.array([first_entry_in_list(cas2iteration[odor.strip()], headings) for odor in odors_sorted])"
   ]
  },
  {
   "cell_type": "markdown",
   "metadata": {},
   "source": [
    "#### Create figure"
   ]
  },
  {
   "cell_type": "code",
   "execution_count": 33,
   "metadata": {},
   "outputs": [],
   "source": [
    "fig = plt.figure(figsize=(7,7))\n",
    "plot_heritage = [('elsewhere', 'y'), ('3rdIteration', 'c'), ('2ndIteration', 'g'), ('1stIteration','g'), ('train','b')]\n",
    "\n",
    "gs = matplotlib.gridspec.GridSpec(5,1,bottom=0.88, top=0.97, left=0.15, right=0.95, hspace=0)\n",
    "for ix, (key, color) in enumerate(plot_heritage):\n",
    "    ax = fig.add_subplot(gs[ix])\n",
    "    ax.set_yticks([])\n",
    "    ax.set_xticks([])\n",
    "    ax.set_ylabel(key, rotation=0, size=8, color=color, va='center')\n",
    "    cmap_tmp = matplotlib.colors.LinearSegmentedColormap.from_list('tmp', ['w',color])\n",
    "    plt.imshow((iteration==key).astype(float).reshape((1,-1)), interpolation='none', cmap=cmap_tmp, aspect='auto')\n",
    "\n",
    "gs = matplotlib.gridspec.GridSpec(3,1, bottom=0.1, top=0.85, left=0.15, right=0.95, height_ratios=[1,1,20], hspace=0)\n",
    "\n",
    "num_odors = len(spec)\n",
    "\n",
    "ax = fig.add_subplot(gs[0])\n",
    "ax.imshow(-np.log10(p_val_argon).reshape((1,-1)), plt.cm.binary, interpolation='none', aspect='auto', vmax=9.2)\n",
    "ax.set_xlim((-0.5, num_odors-0.5))\n",
    "ax.set_xticks([])\n",
    "ax.set_yticks([])\n",
    "ax.set_ylabel('p Argon', rotation='0', size=8)\n",
    "\n",
    "ax = fig.add_subplot(gs[1])\n",
    "ax.imshow(-np.log10(p_val_2m2p).reshape((1,-1)), plt.cm.binary, interpolation='none', aspect='auto', vmax=9.2)\n",
    "ax.set_xlim((-0.5, num_odors-0.5))\n",
    "ax.set_xticks([])\n",
    "ax.set_yticks([])\n",
    "ax.set_ylabel('p 2M2P', rotation='0', size=8)\n",
    "\n",
    "ax = fig.add_subplot(gs[2])\n",
    "# individual measurements\n",
    "for ix, mol in enumerate(odors_sorted):\n",
    "    ax.plot(ix, np.array(mor182spec[method][mol]).reshape((1,-1)), '.', mec='none', mfc='0.5')\n",
    "\n",
    "#average activation\n",
    "ax.step(np.arange(num_odors)+0.5, spec, 'b', lw=2)\n",
    "\n",
    "#decorate\n",
    "ax.set_xticks(np.arange(num_odors), minor=True)\n",
    "ax.set_xticklabels([cas2name[m].decode(\"utf8\") for m in odors_sorted], rotation='45', ha='right', size=6,minor=True)\n",
    "#ax.set_xticks(np.arange(0,num_odors,len(spec)/4))\n",
    "#ax.set_xticks([odors_sorted.index(i) for i in ['623-36-9', '7440-37-1',]], minor=True)\n",
    "#ax.set_xticklabels(['2M2P','Argon'], minor=True, size=8, rotation='45', ha='right')\n",
    "\n",
    "ax.set_xlim((-0.5, num_odors-0.5))\n",
    "ax.set_yticks([0,0.5,1])\n",
    "ax.grid()\n",
    "ax.set_ylabel('rel. response')\n",
    "ax.set_xlabel('odor #')\n",
    "\n",
    "#fig.savefig(os.path.join(savepath182spec, method+'.pdf'))\n",
    "\n",
    "plt.show()"
   ]
  },
  {
   "cell_type": "code",
   "execution_count": 26,
   "metadata": {},
   "outputs": [],
   "source": [
    "plt.show()"
   ]
  },
  {
   "cell_type": "markdown",
   "metadata": {},
   "source": [
    "### Compare sICA to NMF response"
   ]
  },
  {
   "cell_type": "code",
   "execution_count": 170,
   "metadata": {},
   "outputs": [],
   "source": [
    "spec_sica = [average_function(mor182spec['sica_200_ios_meas'][i]) if i in mor182spec['sica_200_ios_meas'] else np.nan for i in odors_sorted ]\n",
    "plt.plot(spec, spec_sica, 'x')\n",
    "plt.plot([-0.5,1.5], [-0.5,1.5])\n",
    "plt.show()"
   ]
  },
  {
   "cell_type": "markdown",
   "metadata": {},
   "source": [
    "#### Distribution of sICA values for negative values in NMF"
   ]
  },
  {
   "cell_type": "code",
   "execution_count": 51,
   "metadata": {},
   "outputs": [],
   "source": [
    "sica_nmf = np.array(spec_sica)[np.array(spec)<0]\n",
    "sica_nmf = sica_nmf[np.logical_not(np.isnan(sica_nmf))]\n",
    "plt.hist(sica_nmf, np.linspace(-1,1,51))\n",
    "plt.show()"
   ]
  }
 ],
 "metadata": {
  "kernelspec": {
   "display_name": "Python 3",
   "language": "python",
   "name": "python3"
  },
  "language_info": {
   "codemirror_mode": {
    "name": "ipython",
    "version": 3
   },
   "file_extension": ".py",
   "mimetype": "text/x-python",
   "name": "python",
   "nbconvert_exporter": "python",
   "pygments_lexer": "ipython3",
   "version": "3.8.6"
  }
 },
 "nbformat": 4,
 "nbformat_minor": 1
}