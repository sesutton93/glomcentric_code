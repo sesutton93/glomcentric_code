{
 "cells": [
  {
   "cell_type": "markdown",
   "metadata": {},
   "source": [
    "# Chemical space of odor spectra: Predict and Compare"
   ]
  },
  {
   "cell_type": "code",
   "execution_count": 1,
   "metadata": {
    "collapsed": true
   },
   "outputs": [],
   "source": [
    "import sys\n",
    "import os\n",
    "import sys\n",
    "toplevelpath = os.path.realpath(os.path.pardir)\n",
    "curdir = os.path.abspath(os.path.curdir)\n",
    "sys.path.append(curdir)\n",
    "sys.path.append(os.path.join(curdir,'BootstrapPrediction'))\n",
    "\n",
    "from bootstrap_prediction import bootstrap_predictor as bp\n",
    "from bootstrap_prediction import datastructures as ds"
   ]
  },
  {
   "cell_type": "code",
   "execution_count": 2,
   "metadata": {
    "collapsed": true
   },
   "outputs": [],
   "source": [
    "%matplotlib inline"
   ]
  },
  {
   "cell_type": "code",
   "execution_count": 3,
   "metadata": {
    "collapsed": true
   },
   "outputs": [
    {
     "name": "stderr",
     "output_type": "stream",
     "text": [
      "<ipython-input-3-182ef079bc66>:18: TqdmExperimentalWarning: Using `tqdm.autonotebook.tqdm` in notebook mode. Use `tqdm.tqdm` instead to force console mode (e.g. in jupyter console)\n",
      "  from tqdm.autonotebook import tqdm\n"
     ]
    }
   ],
   "source": [
    "import glob, csv, json, os, pickle, copy\n",
    "import logging\n",
    "import matplotlib\n",
    "\n",
    "import numpy as np\n",
    "import pylab as plt\n",
    "\n",
    "from scipy.spatial.distance import pdist, squareform\n",
    "from collections import defaultdict\n",
    "from sklearn.svm import SVR, NuSVR\n",
    "from sklearn.ensemble import RandomForestRegressor \n",
    "from sklearn.feature_selection import SelectKBest\n",
    "from sklearn.manifold import MDS\n",
    "from sklearn.isotonic import IsotonicRegression\n",
    "from sklearn.linear_model import LinearRegression\n",
    "from sklearn.metrics import r2_score\n",
    "\n",
    "from tqdm.autonotebook import tqdm"
   ]
  },
  {
   "cell_type": "markdown",
   "metadata": {},
   "source": [
    "#### Set level of output messages"
   ]
  },
  {
   "cell_type": "code",
   "execution_count": 4,
   "metadata": {
    "collapsed": true
   },
   "outputs": [],
   "source": [
    "logging.basicConfig()\n",
    "logger = logging.getLogger()\n",
    "logger.setLevel('WARNING') #'DEBUG','INFO', 'WARNING'"
   ]
  },
  {
   "cell_type": "markdown",
   "metadata": {},
   "source": [
    "### Define Helper Functions"
   ]
  },
  {
   "cell_type": "code",
   "execution_count": 5,
   "metadata": {
    "collapsed": true
   },
   "outputs": [],
   "source": [
    "def condense_list_dict(dic, reducefct=np.mean):\n",
    "    ''' apply reducefct to every value of dictionary'''\n",
    "    reduced_dict = {}\n",
    "    for k, v in dic.items():\n",
    "        reduced_dict[k] = reducefct(v)\n",
    "    return reduced_dict"
   ]
  },
  {
   "cell_type": "markdown",
   "metadata": {},
   "source": [
    "## Read in Feature and Data"
   ]
  },
  {
   "cell_type": "markdown",
   "metadata": {},
   "source": [
    "#### Specify parameter"
   ]
  },
  {
   "cell_type": "code",
   "execution_count": 6,
   "metadata": {
    "collapsed": true
   },
   "outputs": [],
   "source": [
    "basepath = os.path.realpath(os.path.join(os.path.pardir, 'glomcentric_data'))\n",
    "descriptorpath = os.path.join(basepath, 'ChemBase', 'odors_dez2013')\n",
    "vibpath = os.path.join(basepath, 'ChemBase', 'odors_dez2013', 'Vib')\n",
    "fullMOR182spec_file = os.path.join(basepath, 'DataDicts', 'MOR18-2spec.json')\n",
    "cas2molid_file = os.path.join(basepath, 'ChemBase','odors_dez2013','cas2molid.csv')\n",
    "cas2name_file = os.path.join(basepath, 'DataDicts', 'Name2MomCas.tab')\n",
    "savepath = os.path.join(basepath, 'Vis', 'ChemSpace')\n",
    "bg_path = os.path.join(basepath, 'MOBconverted')\n",
    "fingerprinted_specfile = os.path.join(basepath, 'DataDicts', \n",
    "                                      'spectra_correlation_average_nnmf_150_sm2_convex_sp*_ios_meas', 'ts')"
   ]
  },
  {
   "cell_type": "markdown",
   "metadata": {},
   "source": [
    "#### Create mapping CAS to molecule ID"
   ]
  },
  {
   "cell_type": "markdown",
   "metadata": {},
   "source": [
    "If CAS is ambiguous (enatiomeres), only one instance is picked"
   ]
  },
  {
   "cell_type": "code",
   "execution_count": 7,
   "metadata": {
    "collapsed": true
   },
   "outputs": [],
   "source": [
    "cas2molid = {l[0]:l[1] for l in csv.reader(open(cas2molid_file))}\n",
    "cas2name = {l[0]:l[1] for l in csv.reader(open(cas2name_file),  delimiter='\\t')}\n",
    "molid2name = {v:cas2name[k] for k,v in cas2molid.items() if k in cas2name}"
   ]
  },
  {
   "cell_type": "markdown",
   "metadata": {},
   "source": [
    "### Load complete feature pickle"
   ]
  },
  {
   "cell_type": "code",
   "execution_count": 8,
   "metadata": {
    "collapsed": true
   },
   "outputs": [],
   "source": [
    "# workaround because fspaces.pik (and multivarreg.pik below) was created before \n",
    "# refactoring datastructures and bootstrap_predictor into bootstrap_prediction\n",
    "sys.modules['datastructures'] = ds\n",
    "sys.modules['bootstrap_predictor'] = bp"
   ]
  },
  {
   "cell_type": "code",
   "execution_count": 9,
   "metadata": {
    "collapsed": true
   },
   "outputs": [],
   "source": [
    "featurespaces = pickle.load(open(os.path.join(basepath, 'DataDicts','fspaces.pik'), 'rb'), encoding='latin1')"
   ]
  },
  {
   "cell_type": "markdown",
   "metadata": {},
   "source": [
    "### Full MOR18-2 spectrum"
   ]
  },
  {
   "cell_type": "code",
   "execution_count": 10,
   "metadata": {
    "collapsed": true
   },
   "outputs": [
    {
     "name": "stderr",
     "output_type": "stream",
     "text": [
      "WARNING:root:no molid found for EA - GEO\n",
      "WARNING:root:no molid found for MP - GEO\n",
      "WARNING:root:no molid found for Anisole - GEO\n",
      "WARNING:root:no molid found for 2M2P-EA\n",
      "WARNING:root:no molid found for Blood B\n",
      "WARNING:root:no molid found for MP-EA\n",
      "WARNING:root:no molid found for Blood A\n",
      "WARNING:root:no molid found for 2M2P - GEO\n",
      "WARNING:root:no molid found for Anisole-EA\n"
     ]
    }
   ],
   "source": [
    "method = 'nnmf_200_sm2_convex_negTimelowSP_sp*_ios_measnormed'\n",
    "aggregate = np.mean\n",
    "\n",
    "spec = json.load(open(fullMOR182spec_file))\n",
    "mor182_spec_temp = condense_list_dict(spec[method], aggregate)\n",
    "mor182_spec = {}\n",
    "for k, v in mor182_spec_temp.items():\n",
    "    k = k.strip()\n",
    "    if k in cas2molid:\n",
    "        mor182_spec[int(cas2molid[k])]=v\n",
    "    elif (len(k.split('_')) == 1) and logger.level:\n",
    "        logger.warning('no molid found for %s'%k)\n",
    "    else:\n",
    "        logger.debug('no molid found for %s'%k)"
   ]
  },
  {
   "cell_type": "markdown",
   "metadata": {},
   "source": [
    "## Prediction Models"
   ]
  },
  {
   "cell_type": "markdown",
   "metadata": {},
   "source": [
    "### Single Feature Relevance"
   ]
  },
  {
   "cell_type": "markdown",
   "metadata": {},
   "source": [
    "#### Helper functions"
   ]
  },
  {
   "cell_type": "code",
   "execution_count": 11,
   "metadata": {
    "collapsed": true
   },
   "outputs": [],
   "source": [
    "class PyramidRegression():\n",
    "\n",
    "    def __init__(self):\n",
    "        self.zenith = None\n",
    "        self.ir1 = None\n",
    "        self.ir2 = None\n",
    "        \n",
    "    def fit(self,x,y):\n",
    "        \n",
    "        ir1 = extIsotonicRegression()\n",
    "        ir2 = extIsotonicRegression(increasing=False)\n",
    "        \n",
    "        order = np.argsort(x)\n",
    "        x = x[order]\n",
    "        y = y[order]\n",
    "        \n",
    "        se_list = []     \n",
    "        se_list.append(np.sum((y-ir1.fit_transform(x,y))**2))\n",
    "        for i in range(1,len(x)-1):\n",
    "            y1 = ir1.fit_transform(x[:i],y[:i])\n",
    "            y2 = ir2.fit_transform(x[i:],y[i:])\n",
    "            se_list.append(np.sum((y[:i]-y1)**2)+np.sum((y[i:]-y2)**2))\n",
    "        se_list.append(np.sum((y-ir2.fit_transform(x,y))**2))\n",
    "        self.turnpoint = np.argmin(se_list)\n",
    "        self.zenith = x[self.turnpoint]\n",
    "        self.X_ = x #triggers deprecation warning. Refactor line 13-15 outside of fit() to avoid. \n",
    "        # refit with best parameter\n",
    "        yhat1, yhat2 = [], []\n",
    "        if self.turnpoint>0:\n",
    "            self.ir1 = extIsotonicRegression()\n",
    "            yhat1 = self.ir1.fit_transform(x[:self.turnpoint],y[:self.turnpoint])            \n",
    "        if self.turnpoint<(len(x)):#-1):\n",
    "            self.ir2 = extIsotonicRegression(increasing=False)\n",
    "            yhat2 = self.ir2.fit_transform(x[self.turnpoint:],y[self.turnpoint:])\n",
    "        self.r2 = r2_score(y, np.hstack([yhat1, yhat2]))\n",
    "\n",
    "     \n",
    "    def transform(self,x):\n",
    "        out = np.zeros(x.shape)\n",
    "        mask_raise = x<self.zenith\n",
    "        mask_fall = x>=self.zenith              \n",
    "        if np.sum(mask_raise)>0:\n",
    "            out[mask_raise] = self.ir1.transform(x[mask_raise])\n",
    "        if np.sum(mask_fall)>0:\n",
    "            out[mask_fall] = self.ir2.transform(x[mask_fall])\n",
    "        return out\n",
    "    \n",
    "    def predict(self, x):\n",
    "        return self.transform(x)\n",
    "\n",
    "class extIsotonicRegression(IsotonicRegression):\n",
    "    \n",
    "    def __init__(self, **kwargs):\n",
    "        super(extIsotonicRegression, self).__init__(**kwargs)\n",
    "        \n",
    "    def transform(self, x):\n",
    "        xtemp =  x.copy()\n",
    "        xmin,xmax = self.X_min_, self.X_max_\n",
    "        xtemp[xtemp<xmin]=xmin\n",
    "        xtemp[xtemp>xmax]=xmax\n",
    "        return super(extIsotonicRegression, self).transform(xtemp)\n",
    "    \n",
    "    def predict(self, x):\n",
    "        return self.transform(x)\n",
    "\n",
    "def pyramid_score(X,y):\n",
    "    r2 = []\n",
    "    for x in X.T:\n",
    "        py_reg = PyramidRegression()\n",
    "        py_reg.fit(x, y)\n",
    "        r2.append(py_reg.r2) \n",
    "    return np.array(r2), None"
   ]
  },
  {
   "cell_type": "code",
   "execution_count": 12,
   "metadata": {
    "collapsed": true
   },
   "outputs": [],
   "source": [
    "redo = False\n",
    "\n",
    "if redo:\n",
    "    trainsets = {}\n",
    "    r2 = {}\n",
    "else:\n",
    "    tmp = pickle.load(open(os.path.join(basepath, 'DataDicts','univarreg.pik'), 'rb'), encoding='latin1')\n",
    "    r2 = tmp['r2']\n",
    "    trainsets = tmp['trainsets']"
   ]
  },
  {
   "cell_type": "markdown",
   "metadata": {},
   "source": [
    "#### Monotonic regressions\n",
    "Only execute this if you want to redo the calculation."
   ]
  },
  {
   "cell_type": "code",
   "execution_count": 13,
   "metadata": {
    "collapsed": true
   },
   "outputs": [],
   "source": [
    "r2['monoincrease'] = defaultdict(list)\n",
    "r2['monodecrease'] = defaultdict(list)\n",
    "r2['linear'] = defaultdict(list)\n",
    "keys = ['edragon_all', 'eva_all', 'ir_all', 'raman_all', 'ijc']\n",
    "for k in keys:\n",
    "    feature = copy.deepcopy(featurespaces[k])\n",
    "    trainsets[k] = ds.TrainData(mor182_spec, feature)\n",
    "    y = trainsets[k].targets\n",
    "    for i, single_feat in enumerate(trainsets[k].features.T):\n",
    "        x = single_feat.copy()+np.random.randn(len(single_feat))*1E-5\n",
    "        ir_reg = IsotonicRegression()\n",
    "        yhat = ir_reg.fit_transform(x, y)\n",
    "        r2['monoincrease'][k].append(r2_score(y, yhat))\n",
    "        \n",
    "        ir_reg = IsotonicRegression(increasing=False)\n",
    "        yhat = ir_reg.fit_transform(x, y)\n",
    "        r2['monodecrease'][k].append(r2_score(y, yhat))\n",
    "        \n",
    "        x = x.reshape((-1,1))\n",
    "        lin_reg = LinearRegression()\n",
    "        lin_reg.fit(x, y)\n",
    "        yhat = lin_reg.predict(x)\n",
    "        r2['linear'][k].append(r2_score(y, yhat))"
   ]
  },
  {
   "cell_type": "markdown",
   "metadata": {},
   "source": [
    "#### Pyramid regression\n",
    "Only execute this if you want to redo the calculation."
   ]
  },
  {
   "cell_type": "code",
   "execution_count": 14,
   "metadata": {
    "collapsed": true
   },
   "outputs": [
    {
     "data": {
      "text/plain": "  0%|          | 0/3 [00:00<?, ?it/s]",
      "application/vnd.jupyter.widget-view+json": {
       "version_major": 2,
       "version_minor": 0,
       "model_id": "99bee83625b148c19a999a4108e65dde"
      }
     },
     "metadata": {},
     "output_type": "display_data"
    },
    {
     "data": {
      "text/plain": "  0%|          | 0/1600 [00:00<?, ?it/s]",
      "application/vnd.jupyter.widget-view+json": {
       "version_major": 2,
       "version_minor": 0,
       "model_id": "b5dc3bbdf9894d6c8174fcc53337b78a"
      }
     },
     "metadata": {},
     "output_type": "display_data"
    },
    {
     "data": {
      "text/plain": "  0%|          | 0/7 [00:00<?, ?it/s]",
      "application/vnd.jupyter.widget-view+json": {
       "version_major": 2,
       "version_minor": 0,
       "model_id": "61c0b2b2a8544263afeb3cc47d9aac9c"
      }
     },
     "metadata": {},
     "output_type": "display_data"
    },
    {
     "data": {
      "text/plain": "  0%|          | 0/5540 [00:00<?, ?it/s]",
      "application/vnd.jupyter.widget-view+json": {
       "version_major": 2,
       "version_minor": 0,
       "model_id": "529f37d8ae0c4091afcc10e67ac5333b"
      }
     },
     "metadata": {},
     "output_type": "display_data"
    }
   ],
   "source": [
    "keys = ['edragon_all', 'ijc', 'eva_all']\n",
    "r2['pyramid'] = {}\n",
    "for k in tqdm(keys):\n",
    "    r2['pyramid'][k] = []\n",
    "    feature = copy.deepcopy(featurespaces[k])\n",
    "    trainsets[k] = ds.TrainData(mor182_spec, feature)\n",
    "    y = trainsets[k].targets\n",
    "    for i, single_feat in enumerate(tqdm(trainsets[k].features.T, leave=False)):\n",
    "        x = single_feat.copy()+np.random.randn(len(single_feat))*1E-5\n",
    "        py_reg = PyramidRegression()\n",
    "        py_reg.fit(x, y)\n",
    "        r2['pyramid'][k].append(py_reg.r2)"
   ]
  },
  {
   "cell_type": "code",
   "execution_count": 15,
   "metadata": {
    "collapsed": true
   },
   "outputs": [
    {
     "name": "stdout",
     "output_type": "stream",
     "text": [
      "========== linear ==========\n",
      "ijc ['CAtoms'] 0.04951362621881161\n",
      "edragon_all ['BEHp1'] 0.1361014027047165\n",
      "eva_all ['pureband1_1812'] 0.2028699856882058\n",
      "========== monoincrease ==========\n",
      "ijc ['VP ACD mmHG25'] 0.22536603707888192\n",
      "edragon_all ['nCR3X'] 0.2562112518628805\n",
      "eva_all ['pureband1_1813'] 0.30671991507031204\n",
      "========== monodecrease ==========\n",
      "ijc ['CAtoms'] 0.13418446473104317\n",
      "edragon_all ['ATS2p'] 0.2864618660411905\n",
      "eva_all ['pureband1_496'] 0.24422875408276046\n",
      "========== pyramid ==========\n",
      "ijc ['VP ACD mmHG25'] 0.2962872742421043\n",
      "edragon_all ['ATS2p'] 0.4203856085529355\n",
      "eva_all ['pureband5_1820'] 0.49616876967633405\n"
     ]
    }
   ],
   "source": [
    "for m in ['linear', 'monoincrease', 'monodecrease', 'pyramid']: \n",
    "    print('========== %s =========='%m)\n",
    "    for k in ['ijc', 'edragon_all', 'eva_all']:\n",
    "        i = np.argmax(r2[m][k])\n",
    "        print(k, [trainsets[k].feat_name[i]], r2[m][k][i])"
   ]
  },
  {
   "cell_type": "markdown",
   "metadata": {},
   "source": [
    "### MOR18-2 prediction for different Featurespaces\n",
    "Only execute this if you want to redo the calculation."
   ]
  },
  {
   "cell_type": "code",
   "execution_count": 16,
   "metadata": {
    "collapsed": true
   },
   "outputs": [],
   "source": [
    "# exclude some featspaces to save memory\n",
    "keys = list(featurespaces.keys())\n",
    "[featurespaces.pop(k) for k in keys if (('raman' in k) or ('ir' in k))]\n",
    "[featurespaces.pop(k) for k in ['all', 'eva_hcombi', 'eva200', 'edragon-evacombi', 'ijc', 'eva_all', \n",
    "                             'TOPOLOGICAL_CHARGE_INDICES'] if k in featurespaces]\n",
    "\n",
    "# clean mor182_spec\n",
    "remove = [140, 1016, 92, 164, 1000, 239, 1012, 312] #molecules with no features in some featurespace\n",
    "mor182_spec_clean = copy.deepcopy(mor182_spec)\n",
    "[mor182_spec_clean.pop(i) for i in remove]\n",
    "models_mor182 = {}"
   ]
  },
  {
   "cell_type": "markdown",
   "metadata": {},
   "source": [
    "#### Fit SVR models on bootstrap samples for validation\n",
    "Only execute this if you want to redo the calculation."
   ]
  },
  {
   "cell_type": "code",
   "execution_count": 17,
   "metadata": {
    "collapsed": true
   },
   "outputs": [],
   "source": [
    "new_combi = {\n",
    "    'edragon-eva100': ds.combine_features([featurespaces[name] for name in ['edragon_all', 'eva100']]),\n",
    "    'edragon-eva20': ds.combine_features([featurespaces[name] for name in ['edragon_all', 'eva020']]),\n",
    "    'edragon-eva50': ds.combine_features([featurespaces[name] for name in ['edragon_all', 'eva050']]),\n",
    "    }\n",
    "featurespaces.update(new_combi)"
   ]
  },
  {
   "cell_type": "code",
   "execution_count": 18,
   "metadata": {
    "collapsed": true
   },
   "outputs": [
    {
     "data": {
      "text/plain": "  0%|          | 0/32 [00:00<?, ?it/s]",
      "application/vnd.jupyter.widget-view+json": {
       "version_major": 2,
       "version_minor": 0,
       "model_id": "511949c40dfc403aac621555cf3081ce"
      }
     },
     "metadata": {},
     "output_type": "display_data"
    }
   ],
   "source": [
    "to_evaluate = featurespaces\n",
    "estimator_class = bp.BootstrapRegressor\n",
    "estimator_param ={'regressor': SVR, 'reg_param':{'C':5, 'epsilon':0.1}, 'n_member':50, 'strat_thres':2,\n",
    "                  'aggregate': np.mean}\n",
    "\n",
    "for ix, featspace in enumerate(tqdm(to_evaluate)):\n",
    "    feature = copy.deepcopy(featurespaces[featspace])\n",
    "    feature.zscore()\n",
    "    mytrain = ds.TrainData(mor182_spec_clean, feature)\n",
    "    estimator = estimator_class(**estimator_param) \n",
    "    estimator.fit(mytrain.features, mytrain.targets)\n",
    "    models_mor182[featspace] = (estimator, mytrain)"
   ]
  },
  {
   "cell_type": "markdown",
   "metadata": {},
   "source": [
    "#### Load/save the results\n",
    "Set \"load\" to \"True\" to load the cached results.\n",
    "\n",
    "*Note: The the cached results will only be usable with Scikit-learn v0.15 or slightly older. If you want to use newer Scikit-learn, please re-calculate the predictors in `MOBpredict.ipynb`.*"
   ]
  },
  {
   "cell_type": "code",
   "execution_count": 19,
   "metadata": {
    "collapsed": true
   },
   "outputs": [],
   "source": [
    "save = False\n",
    "load = True\n",
    "\n",
    "if save:\n",
    "    pickle.dump(models_mor182, open(os.path.join(basepath, 'DataDicts', 'multivarreg.pik'),'wb'))\n",
    "if load:\n",
    "    models_mor182 = pickle.load(open(os.path.join(basepath, 'DataDicts', 'multivarreg.pik'),'rb'))"
   ]
  },
  {
   "cell_type": "code",
   "execution_count": 20,
   "metadata": {
    "collapsed": true
   },
   "outputs": [
    {
     "name": "stdout",
     "output_type": "stream",
     "text": [
      "73 1.043344892770218\n",
      "1052 0.8789098322636452\n",
      "1076 0.8192440162984375\n",
      "162 0.811147902909276\n",
      "160 0.806688905411515\n",
      "116 0.8046427712869664\n",
      "1096 0.79927236232432\n",
      "1086 0.7117600782596465\n",
      "78 0.6983713515243617\n",
      "1111 0.6686133845088819\n",
      "1109 0.6553219557902547\n",
      "1070 0.6080239152692214\n",
      "400 0.558248626060112\n",
      "267 0.551134539786586\n",
      "1068 0.509900850966296\n",
      "1062 0.509397017429818\n",
      "421 0.4971545963801934\n",
      "254 0.48665793619793024\n",
      "231 0.47336091528453367\n"
     ]
    }
   ],
   "source": [
    "f = 'edragon_all'\n",
    "feat = copy.copy(featurespaces[f])\n",
    "feat.zscore()\n",
    "mymodel = models_mor182[f]\n",
    "pred = mymodel[0].predict(feat.data)\n",
    "best = np.argsort(pred)\n",
    "for i in best[-1:-20:-1]:\n",
    "    print(feat.obj_name[i], pred[i])"
   ]
  },
  {
   "cell_type": "code",
   "execution_count": 21,
   "metadata": {
    "collapsed": true
   },
   "outputs": [
    {
     "data": {
      "text/plain": "'0.24.0'"
     },
     "execution_count": 21,
     "metadata": {},
     "output_type": "execute_result"
    }
   ],
   "source": [
    "import sklearn\n",
    "sklearn.__version__"
   ]
  },
  {
   "cell_type": "markdown",
   "metadata": {},
   "source": [
    "### Create the Plot"
   ]
  },
  {
   "cell_type": "code",
   "execution_count": 22,
   "metadata": {
    "collapsed": true
   },
   "outputs": [],
   "source": [
    "alias = {\n",
    " 'FUNCTIONAL_GROUP_COUNTS': '#FGROUP',\n",
    " 'TWOD_AUTOCORRELATIONS': '2DAUTO',\n",
    " 'saito': 'SAITO',\n",
    " 'CONNECTIVITY_INDICES': 'C_IND',\n",
    " 'ATOMCENTRED_FRAGMENTS': 'A_FRAG',\n",
    " 'eva010': '$EVA_{10}$',\n",
    " 'eva050': '$EVA_{50}$',\n",
    " 'CONSTITUTIONAL': 'CONST',\n",
    " 'BURDEN_EIGENVALUES_DESCRIPTORS': 'BCUT',\n",
    " 'WHIM': 'WHIM',\n",
    " 'EDGE_ADJACENCY_INDICES': 'EA_IND',\n",
    " 'GETAWAY': 'GETAWAY',\n",
    " 'TOPOLOGICAL': 'TOPO',\n",
    " 'RDF': 'RDF',\n",
    " 'THREEDMORSE': '3DMORSE',\n",
    " 'EIGENVALUE_INDICES': 'EV_IND',\n",
    " 'eva100': '$EVA_{100}$',\n",
    " 'haddad': 'HADDAD',\n",
    " 'GEOMETRICAL': 'GEO',\n",
    " 'RANDIC_MOLECULAR PROFILES': 'RAND',\n",
    " 'MOLECULAR_PROPERTIES': 'MOL_PROP',\n",
    " 'edragon_all': 'eDRAGON',\n",
    " 'eva001':'$EVA_1$',\n",
    " 'WALK_PATH_COUNTS': 'WPATH',\n",
    " 'eva005':'$EVA_5$',\n",
    " 'eva020': '$EVA_{20}$',\n",
    " \n",
    " 'edragon-eva1': '$eDR-EVA_1$',\n",
    " 'edragon-eva5': '$eDR-EVA_5$',\n",
    " 'edragon-eva10': '$eDR-EVA_{10}$',\n",
    " 'edragon-eva20': '$eDR-EVA_{20}$', \n",
    " 'edragon-eva50': '$eDR-EVA_{50}$', \n",
    " 'edragon-eva100': '$eDR-EVA_{100}$'}\n",
    "\n"
   ]
  },
  {
   "cell_type": "code",
   "execution_count": 23,
   "metadata": {
    "collapsed": true
   },
   "outputs": [],
   "source": [
    "global_fs= 7 \n",
    "\n",
    "layout = {   'axes.labelsize': 7,\n",
    "             'axes.linewidth': .5, \n",
    "             'xtick.major.size': 2,     # major tick size in points\n",
    "             'xtick.minor.size': 1,     # minor tick size in points\n",
    "             'xtick.labelsize': 7,       # fontsize of the tick labels\n",
    "             'xtick.major.pad': 2,  \n",
    "             \n",
    "             'ytick.major.size': 2,      # major tick size in points\n",
    "             'ytick.minor.size': 1,     # minor tick size in points\n",
    "             'ytick.labelsize':7,       # fontsize of the tick labels\n",
    "             'ytick.major.pad': 2,\n",
    "             \n",
    "             'mathtext.default' : 'regular' \n",
    "\n",
    "             }\n",
    "\n",
    "import matplotlib as mpl\n",
    "for k, v in layout.items():\n",
    "    mpl.rcParams[k] = v "
   ]
  },
  {
   "cell_type": "code",
   "execution_count": 24,
   "metadata": {
    "collapsed": true
   },
   "outputs": [
    {
     "data": {
      "text/plain": "<Figure size 269.28x306 with 9 Axes>",
      "image/png": "[encoded data removed]"
     },
     "metadata": {
      "needs_background": "light"
     },
     "output_type": "display_data"
    }
   ],
   "source": [
    "strat_thres = 2\n",
    "toplot = {'linear': (LinearRegression, 'eva_all', 'pureband1_1812'), \n",
    "          'monoincrease':(extIsotonicRegression, 'eva_all', 'pureband1_1813'), \n",
    "          'pyramid':(PyramidRegression, 'eva_all', 'pureband5_1820')}\n",
    "\n",
    "fig_dim = (7.48/2, 4.25)\n",
    "\n",
    "fig = plt.figure(figsize=fig_dim)\n",
    "\n",
    "gs = matplotlib.gridspec.GridSpec(5, 3, left=0.08, right=0.98, top=0.93, bottom=0.08, \n",
    "                                  hspace=0., wspace=0.3, height_ratios=[4, 1.8, 4, 1.8, 4])\n",
    "left1 = gs[0,1].get_position(fig).corners()[1,0]\n",
    "left2 = gs[0,2].get_position(fig).corners()[1,0]\n",
    "fig.text(0.07, 0.95, '(a)', ha='right', va='center', fontsize=8, fontweight='bold')\n",
    "fig.text(left1-0.01, 0.95, '(b)', ha='right', va='center', fontsize=8, fontweight='bold')\n",
    "fig.text(left2-0.01, 0.95, '(c)', ha='right', va='center', fontsize=8, fontweight='bold')\n",
    "\n",
    "top1 = gs[2,0].get_position(fig).corners()[1,1]+0.01\n",
    "top2 = gs[4,0].get_position(fig).corners()[1,1]+0.01\n",
    "\n",
    "fig.text(0.07, 0.92, 'I', ha='right', va='center', fontsize=8, fontweight='bold')\n",
    "fig.text(0.07, top1-0.015, 'II', ha='right', va='center', fontsize=8, fontweight='bold')\n",
    "fig.text(0.07, top2-0.015, 'III', ha='right', va='center', fontsize=8, fontweight='bold')\n",
    "\n",
    "for k_ix, key in enumerate(['linear', 'monoincrease', 'pyramid']):\n",
    "\n",
    "    Regressor, fspace, feat = toplot[key]\n",
    "  \n",
    "    ind = trainsets[fspace].feat_name.index(feat)\n",
    "    x = trainsets[fspace].features[:,ind]\n",
    "    x += np.random.randn(trainsets[fspace].features.shape[0])*1E-5\n",
    "    y =  trainsets[fspace].targets\n",
    "\n",
    "    regressor = Regressor()\n",
    "    xfit = x.reshape((-1,1)) if (key == 'linear') else x \n",
    "    regressor.fit(xfit,y)\n",
    "    yhat = regressor.predict(xfit)\n",
    "    \n",
    "    estimator_param ={'regressor': Regressor, 'reg_param':{}, 'n_member':100, 'strat_thres':strat_thres}\n",
    "    estimator = bp.BootstrapRegressor(**estimator_param) \n",
    "    estimator.fit(xfit, y)\n",
    "    \n",
    "    # target vs feature\n",
    "    ax = fig.add_subplot(gs[2*k_ix,0])\n",
    "    ax.plot(x, y, 'o', mfc='none', mec='k', ms=3)\n",
    "    order = np.argsort(x)\n",
    "    ax.plot(x[order], yhat[order], 'b')\n",
    "    ax.set_yticks([0,1])\n",
    "    #ax.xaxis.set_major_locator(matplotlib.ticker.MaxNLocator(nbins=3))\n",
    "    if k_ix <2:\n",
    "        ax.set_xticks([0, 0.3])\n",
    "    else:\n",
    "        ax.set_xticks([0, 0.15])\n",
    "    ax.set_ylabel('$a_{rel}$', labelpad=-3)\n",
    "    xlabel = feat.split('_')\n",
    "    xlabel[0] = xlabel[0][-1]\n",
    "    ax.set_xlabel('$EVA^{%s}_{%s}$'%tuple(xlabel), labelpad=-4)\n",
    "    \n",
    "    # target vs. target fit \n",
    "    ax = fig.add_subplot(gs[2*k_ix,1])\n",
    "    ax.plot(yhat, y,  'o', mec='k', mfc='none', ms=3)\n",
    "    ax.plot([-0.2, 1.3], [-0.2, 1.3], 'k:')\n",
    "    ax.set_xticks([0,1])\n",
    "    ax.set_yticks([0,1])\n",
    "    ax.set_xlabel('$\\hat{a}_{rel}$', labelpad=-4)\n",
    "    ax.set_ylabel('$a_{rel}$', labelpad=-2)\n",
    "    r2loc = r2_score(np.array(y)[~np.isnan(yhat)], np.array(yhat)[~np.isnan(yhat)])\n",
    "    ax.text(0.97, 0.02, '$r^2=%.2f$'%r2loc, size=6, transform=ax.transAxes, horizontalalignment='right',\n",
    "            verticalalignment='bottom')\n",
    "    \n",
    "    # target vs bootstrap fit\n",
    "    ax = fig.add_subplot(gs[2*k_ix,2])\n",
    "    ax.plot(estimator.oob_prediction, estimator._train_targets.values(), 'o', mec='k', mfc='none', ms=3)\n",
    "    \n",
    "    yhat, y = estimator._oob_prediction_single()\n",
    "    q2 = r2_score(np.array(y)[~np.isnan(yhat)], np.array(yhat)[~np.isnan(yhat)])\n",
    "    ax.text(0.97, 0.02, '$q^2=%.2f$'%q2, size=6, transform=ax.transAxes, horizontalalignment='right',\n",
    "            verticalalignment='bottom')\n",
    "    \n",
    "    ax.plot([-0.2,1.3], [-0.2,1.3], 'k:')\n",
    "    ax.set_xticks([0,1])\n",
    "    ax.set_yticks([0,1])\n",
    "    ax.set_xlabel('$\\hat{a}_{rel}^{bst}$', labelpad=-4)\n",
    "    ax.set_ylabel('$a_{rel}$', labelpad=-2)\n",
    "    \n",
    "\n",
    "#fig.savefig(os.path.join(savepath, 'Fig_univar_model_perf.png'), dpi=300)"
   ]
  },
  {
   "cell_type": "markdown",
   "metadata": {},
   "source": [
    "#### Multidimensional model "
   ]
  },
  {
   "cell_type": "code",
   "execution_count": 25,
   "metadata": {
    "collapsed": true
   },
   "outputs": [],
   "source": [
    "def plot_multidim_model(fig, gs):\n",
    "    model, traindata = models_mor182['edragon-eva5']\n",
    "    order = np.argsort(traindata.targets)\n",
    "\n",
    "\n",
    "    # Dataspace\n",
    "    gs_inner = matplotlib.gridspec.GridSpecFromSubplotSpec(1,2,gs[0,0], wspace=0, width_ratios=[9,1])\n",
    "    ax = fig.add_subplot(gs_inner[0])\n",
    "    mds = MDS(random_state=4)\n",
    "    X = mds.fit_transform(traindata.features)\n",
    "\n",
    "    ax.scatter(*X[order].T, edgecolor='none', s=3, \n",
    "               linewidth=0.5, facecolor='k', alpha=0.2)\n",
    "    ax.scatter(*X[order].T, edgecolor=[plt.cm.YlGn(i) for i in traindata.targets[order]], s=3, \n",
    "               linewidth=0.5, facecolor='none', alpha=0.8)        \n",
    "    ax.set_xticks([-50,0,50])\n",
    "    ax.set_yticks([-50,0])\n",
    "    ax.set_ylim([-60, 55])\n",
    "    ax.set_xlim([-60, 65])\n",
    "    ax.set_xlabel('MDS1', labelpad=0.1)\n",
    "    ax.set_ylabel('MDS2', labelpad=-7)\n",
    "    ax.set_title('$eDR-EVA_5$', size=global_fs, y=0.98)\n",
    "\n",
    "    ax = fig.add_subplot(gs_inner[1])\n",
    "    cmap = plt.cm.YlGn\n",
    "    norm = matplotlib.colors.Normalize(vmin=0, vmax=1)\n",
    "    cbar = matplotlib.colorbar.ColorbarBase(ax, cmap=cmap, norm=norm, orientation='vertical')\n",
    "    cbar.set_ticks([0, 1])\n",
    "    #cbar.set_ticklabels(['0', 'max'])\n",
    "    cbar.set_label('$a_{rel}$', fontsize=global_fs, labelpad=-4)\n",
    "\n",
    "\n",
    "    # Model fit \n",
    "    ax = fig.add_subplot(gs[0,1])\n",
    "    y = traindata.targets\n",
    "    yhat = model.full_regressor.predict(traindata.features)\n",
    "    ax.plot(yhat, y, 'o', mfc='none', mec='k', ms=3)\n",
    "    ax.plot([-0.2,1.3], [-0.2,1.3], 'k:')\n",
    "    ax.set_xticks([0,1])\n",
    "    ax.set_yticks([0,1])\n",
    "    ax.set_xlabel('$\\hat{a}_{rel}$', labelpad=-4)\n",
    "    ax.set_ylabel('$a_{rel}$', labelpad=-2)\n",
    "    r2loc = r2_score(np.array(y)[~np.isnan(yhat)], np.array(yhat)[~np.isnan(yhat)])\n",
    "    ax.text(0.97, 0.02, '$r^2=%.2f$'%r2loc, size=6, transform=ax.transAxes, horizontalalignment='right',\n",
    "                verticalalignment='bottom')\n",
    "    # Bootstrap estimation\n",
    "    ax = fig.add_subplot(gs[0, 2])\n",
    "    #std =  [np.std(model._pred_dict[mol]) for mol in model._train_targets.keys()]\n",
    "    ax.plot(model.oob_prediction, model._train_targets.values(),  'o',\n",
    "                mfc='none', mec='k', ms=3)\n",
    "    ax.text(0.97, 0.02, '$q^2=%.2f$'%model.oob_score_single, size=6, transform=ax.transAxes, horizontalalignment='right',\n",
    "                verticalalignment='bottom')\n",
    "\n",
    "    '''\n",
    "    ax.errorbar(model.oob_prediction,model._train_targets.values(),  xerr=std, \n",
    "                fmt=None, ecolor='k', linewidth=0.5, capsize=1, alpha=0.5)\n",
    "    '''\n",
    "    ax.plot([-0.2,1.3], [-0.2,1.3], 'k:')\n",
    "    ax.set_xticks([0,1])\n",
    "    ax.set_yticks([0,1])\n",
    "    ax.set_xlabel('$\\hat{a}_{rel}^{bst}$', labelpad=-4)\n",
    "    ax.set_ylabel('$a_{rel}$', labelpad=-2)\n",
    "    \n",
    "    left1 = gs[0,1].get_position(fig).corners()[1,0]\n",
    "    left2 = gs[0,2].get_position(fig).corners()[1,0]\n",
    "    top = gs[0,0].get_position(fig).corners()[1,1]+0.03\n",
    "    fig.text(0.08, top, '(a)', ha='right', va='center', fontsize=8, fontweight='bold')\n",
    "    fig.text(left1, top, '(b)', ha='right', va='center', fontsize=8, fontweight='bold')\n",
    "    fig.text(left2, top, '(c)', ha='right', va='center', fontsize=8, fontweight='bold')\n"
   ]
  },
  {
   "cell_type": "markdown",
   "metadata": {},
   "source": [
    "#### Plot model performance of feature spaces"
   ]
  },
  {
   "cell_type": "code",
   "execution_count": 26,
   "metadata": {
    "collapsed": true
   },
   "outputs": [],
   "source": [
    "toplot1 = list(models_mor182.keys())\n",
    "toplot2 = ['edragon-eva1', 'edragon-eva5', 'edragon-eva10', 'edragon-eva20', 'edragon-eva50', 'edragon-eva100']\n",
    "_ = [toplot1.remove(i) for i in toplot2]\n"
   ]
  },
  {
   "cell_type": "code",
   "execution_count": 27,
   "metadata": {
    "collapsed": true
   },
   "outputs": [],
   "source": [
    "def plot_featurespace_perf(fig, gs_full):\n",
    "    gs = matplotlib.gridspec.GridSpecFromSubplotSpec(1, 2, subplot_spec=gs_full[1,:], \n",
    "                                                     wspace=0.2, width_ratios=[len(toplot1)+1, len(toplot2)+1]) \n",
    "    left1 = gs[1].get_position(fig).corners()[1,0]\n",
    "    fig.text(0.07, 0.51, '(d)', ha='right', va='center', fontsize=8, fontweight='bold')\n",
    "    fig.text(left1-0.01, 0.51, '(e)', ha='right', va='center', fontsize=8, fontweight='bold')\n",
    "\n",
    "    for ix, toplot in  enumerate([toplot1, toplot2]):\n",
    "        performance = np.array([models_mor182[k][0].oob_score_single for k in toplot])\n",
    "        order = np.argsort(performance)\n",
    "\n",
    "        ax = fig.add_subplot(gs[ix])\n",
    "        x = np.arange(performance.size)\n",
    "        ax.bar(x, np.sort(performance))\n",
    "        ax.set_xticks(x+0.5)\n",
    "        ax.set_xticklabels([alias[toplot[i]] for i in order], rotation='90', ha='center', size=6)\n",
    "        ax.set_ylabel('q2', labelpad=-0.4)\n",
    "        ax.set_ylim([-0.1, 0.45])\n",
    "        ax.set_yticks(np.arange(0,0.5,0.1))\n",
    "        ax.set_yticklabels(['0','','.2','','.4'])\n",
    "        ax.set_xlim((-0.5, len(toplot)+0.5))\n",
    "        ax.yaxis.grid(True)\n"
   ]
  },
  {
   "cell_type": "markdown",
   "metadata": {
    "collapsed": true
   },
   "source": [
    "### Make figure"
   ]
  },
  {
   "cell_type": "code",
   "execution_count": 28,
   "metadata": {
    "collapsed": true
   },
   "outputs": [
    {
     "data": {
      "text/plain": "<Figure size 269.28x216 with 6 Axes>",
      "image/png": "[encoded data removed]"
     },
     "metadata": {
      "needs_background": "light"
     },
     "output_type": "display_data"
    }
   ],
   "source": [
    "fig_dim = (7.48/2, 3)\n",
    "\n",
    "fig = plt.figure(figsize=fig_dim)\n",
    "gs = matplotlib.gridspec.GridSpec(2, 3, left=0.08, right=0.98, top=0.9, bottom=0.2, \n",
    "                                  hspace=0.4, wspace=0.3, height_ratios=[4,4])\n",
    "plot_multidim_model(fig, gs)\n",
    "plot_featurespace_perf(fig, gs)\n",
    "\n",
    "#fig.savefig(os.path.join(savepath, 'Fig_multivar_model_perf.png'), dpi=300)"
   ]
  },
  {
   "cell_type": "code",
   "execution_count": 28,
   "metadata": {
    "collapsed": true
   },
   "outputs": [],
   "source": []
  }
 ],
 "metadata": {
  "anaconda-cloud": {},
  "kernelspec": {
   "name": "python3",
   "language": "python",
   "display_name": "Python 3"
  },
  "language_info": {
   "codemirror_mode": {
    "name": "ipython",
    "version": 2
   },
   "file_extension": ".py",
   "mimetype": "text/x-python",
   "name": "python",
   "nbconvert_exporter": "python",
   "pygments_lexer": "ipython2",
   "version": "2.7.13"
  }
 },
 "nbformat": 4,
 "nbformat_minor": 1
}