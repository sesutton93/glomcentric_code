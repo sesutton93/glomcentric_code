{
 "cells": [
  {
   "cell_type": "markdown",
   "metadata": {},
   "source": [
    "# Odor spectra in chemical space(s)"
   ]
  },
  {
   "cell_type": "markdown",
   "metadata": {},
   "source": [
    "### Preperations"
   ]
  },
  {
   "cell_type": "markdown",
   "metadata": {},
   "source": [
    "#### standard imports"
   ]
  },
  {
   "cell_type": "code",
   "execution_count": 2,
   "metadata": {},
   "outputs": [],
   "source": [
    "import glob, csv, pickle, os, json, sys\n",
    "import matplotlib, scipy\n",
    "import copy\n",
    "\n",
    "import numpy as np\n",
    "import matplotlib.pyplot as plt\n",
    "from collections import defaultdict, OrderedDict\n",
    "from scipy.spatial.distance import pdist, squareform\n",
    "from scipy.cluster.hierarchy import linkage, dendrogram, leaders, fcluster\n",
    "from matplotlib import gridspec\n",
    "from sklearn.manifold import MDS"
   ]
  },
  {
   "cell_type": "markdown",
   "metadata": {},
   "source": [
    "#### custom imports"
   ]
  },
  {
   "cell_type": "markdown",
   "metadata": {},
   "source": [
    "include those modules in your PYTHONPATH or directly in the folder of this notebook. Modules can be found at https://github.com/jansoe"
   ]
  },
  {
   "cell_type": "code",
   "execution_count": 3,
   "metadata": {},
   "outputs": [],
   "source": [
    "import sys\n",
    "import os\n",
    "curdir = os.path.abspath(os.path.curdir)\n",
    "sys.path.append(os.path.join(curdir,'FUImaging'))\n",
    "sys.path.append(os.path.join(curdir,'BootstrapPrediction'))\n",
    "from regnmf import ImageAnalysisComponents as ia\n",
    "from bootstrap_prediction import bootstrap_predictor as bp\n",
    "from bootstrap_prediction import datastructures as ds\n",
    "# workaround because fspaces.pik (and multivarreg.pik below) was created before \n",
    "# refactoring datastructures and bootstrap_predictor into bootstrap_prediction\n",
    "sys.modules['datastructures'] = ds\n",
    "sys.modules['bootstrap_predictor'] = bp"
   ]
  },
  {
   "cell_type": "markdown",
   "metadata": {},
   "source": [
    "#### notebook behavior"
   ]
  },
  {
   "cell_type": "code",
   "execution_count": 4,
   "metadata": {},
   "outputs": [],
   "source": [
    "import warnings\n",
    "warnings.filterwarnings(\"ignore\", category=DeprecationWarning)\n",
    "\n",
    "%matplotlib inline\n",
    "matplotlib.rcParams['savefig.dpi'] = 150"
   ]
  },
  {
   "cell_type": "markdown",
   "metadata": {},
   "source": [
    "#### functions to process hierachichal clustering results (linkages)"
   ]
  },
  {
   "cell_type": "code",
   "execution_count": 5,
   "metadata": {},
   "outputs": [],
   "source": [
    "def return_all_childs(mylinkage, parent):\n",
    "    ''' recursive function returns all leaf node indexes below a parent node in mylinkage\n",
    "    \n",
    "        parent: node index\n",
    "        mylinkage = scipy.cluster.hierarchy.linkage result\n",
    "    '''    \n",
    "    num_leaves = mylinkage.shape[0]+1\n",
    "    if parent<num_leaves:\n",
    "        return [int(parent)]\n",
    "    else:\n",
    "        leftchild, rightchild = mylinkage[parent-num_leaves][:2]\n",
    "        return return_all_childs(mylinkage, parent=leftchild) + return_all_childs(mylinkage, parent=rightchild)\n",
    "\n",
    "def return_all_links(mylinkage, parent):\n",
    "    ''' recursive function returns all nodes below of parent node in mylinkage''' \n",
    "    num_leaves = mylinkage.shape[0]+1\n",
    "    if parent<num_leaves:\n",
    "        return [parent]\n",
    "    else:\n",
    "        leftchild, rightchild = mylinkage[parent-num_leaves][:2]\n",
    "        return [parent] + return_all_links(mylinkage, parent=leftchild) + return_all_links(mylinkage, parent=rightchild)\n",
    "\n",
    "def color_clusters(cluster, color_dict = None):\n",
    "    ''' creates link-coloring function to color each cluster (given by parent node) '''\n",
    "    cluster_colors = defaultdict(lambda: '0.5')\n",
    "    for clust_ix, cluster_parent in enumerate(cluster):\n",
    "        clust_color = color_dict[cluster_parent] if color_dict else plt.cm.prism(1.*clust_ix/len(cluster)) \n",
    "        clust_color = matplotlib.colors.rgb2hex(clust_color)\n",
    "        colordict_update = {i: clust_color for i in return_all_links(link, cluster_parent+link.shape[0]+1)}\n",
    "        cluster_colors.update(colordict_update)\n",
    "    return lambda node: cluster_colors[node]"
   ]
  },
  {
   "cell_type": "markdown",
   "metadata": {
    "collapsed": true
   },
   "source": [
    "####  plotting parameter"
   ]
  },
  {
   "cell_type": "code",
   "execution_count": 6,
   "metadata": {},
   "outputs": [],
   "source": [
    "fig_dim = (7.48,9.4)\n",
    "global_fs= 7 \n",
    "\n",
    "layout = {   'axes.labelsize': 7,\n",
    "             'axes.linewidth': .5, \n",
    "             'xtick.major.size': 2,     # major tick size in points\n",
    "             'xtick.minor.size': 1,     # minor tick size in points\n",
    "             'xtick.labelsize': 7,       # fontsize of the tick labels\n",
    "             'xtick.major.pad': 2,  \n",
    "             \n",
    "             'ytick.major.size': 2,      # major tick size in points\n",
    "             'ytick.minor.size': 1,     # minor tick size in points\n",
    "             'ytick.labelsize':7,       # fontsize of the tick labels\n",
    "             'ytick.major.pad': 2,\n",
    "             \n",
    "             'mathtext.default' : 'regular',\n",
    "             'legend.fontsize': 7\n",
    "             }\n",
    "\n",
    "for k, v in layout.items():\n",
    "    matplotlib.rcParams[k] = v "
   ]
  },
  {
   "cell_type": "markdown",
   "metadata": {},
   "source": [
    "#### data locations"
   ]
  },
  {
   "cell_type": "code",
   "execution_count": 7,
   "metadata": {},
   "outputs": [],
   "source": [
    "#datapath = '/media/jan/BackupWork/Documents/NewAnalysis'\n",
    "toplevelpath = os.path.realpath(os.path.pardir)\n",
    "datapath = os.path.join(toplevelpath, 'glomcentric_data')\n",
    "\n",
    "factorization_path = os.path.join(datapath, 'MOBdecomposed')\n",
    "bg_path = os.path.join(datapath, 'MOBconverted')\n",
    "cas2name_file = os.path.join(datapath, 'DataDicts', 'Name2MomCas.tab')\n",
    "cas2molid_file = os.path.join(datapath, 'ChemBase','odors_dez2013','cas2molid.csv')\n",
    "\n",
    "#cluster_file = os.path.join(datapath, 'DataDicts', 'cluster_assignment.json')\n",
    "#spec_savepath = os.path.join(datapath, 'DataDicts')\n",
    "#vis_path = os.path.join(datapath, 'Vis')\n",
    "#clustering_savepath = os.path.join(vis_path, 'Clustering')\n",
    "#fingerprinted_specfile = os.path.join(datapath, 'DataDicts', \n",
    "#                                      'spectra_correlation_average_nnmf_150_sm2_convex_sp_ios_meas', 'ts')"
   ]
  },
  {
   "cell_type": "markdown",
   "metadata": {},
   "source": [
    "## Set analysis parameter"
   ]
  },
  {
   "cell_type": "markdown",
   "metadata": {},
   "source": [
    "#### Specify parameter"
   ]
  },
  {
   "cell_type": "code",
   "execution_count": 8,
   "metadata": {},
   "outputs": [],
   "source": [
    "# specify filename speicification of data to use (with wildcard *)\n",
    "method = 'nnmf_150_sm2_convex_sp*_ios_meas' #'sica_200_ios_meas'\n",
    "# specify animals to include\n",
    "animals =  ['111210sph', '111221sph','111222sph', '120107', '120119', '120121', '120125']\n",
    "# select maximale trial2trial correlation distance (aka 1-correlation) of modes to be included\n",
    "stimulusdrive = 0.4\n",
    "# slecet minimal activation strength of modes to be included\n",
    "min_activation = 0.2\n",
    "# space in which chemical similarity shall be evaluated\n",
    "fspace = 'edragon-eva5' # 'haddad' # "
   ]
  },
  {
   "cell_type": "markdown",
   "metadata": {},
   "source": [
    "### Load data"
   ]
  },
  {
   "cell_type": "markdown",
   "metadata": {},
   "source": [
    "#### Function to load and preprocess all measurement data"
   ]
  },
  {
   "cell_type": "markdown",
   "metadata": {},
   "source": [
    "Final measurement set will pruned to odors only present in all animals"
   ]
  },
  {
   "cell_type": "code",
   "execution_count": 9,
   "metadata": {},
   "outputs": [],
   "source": [
    "def load_combined_series(allIDs, filemask, thres, min_strength, factorization_path):\n",
    "    ''' function to load and preprocess timeseries of multiple animals '''\n",
    "    \n",
    "    allgood, turn = [], []\n",
    "    for measID in allIDs:\n",
    "        \n",
    "        # load timeseries\n",
    "        ts = ia.TimeSeries()\n",
    "        filename = glob.glob(os.path.join(factorization_path, measID, filemask+'.npy'))\n",
    "        assert len(filename)==1\n",
    "        ts.load(filename[0].split('.')[0])\n",
    "        ts.label_stimuli = [i.split('_')[0] for i in ts.label_stimuli]\n",
    "        \n",
    "        # if data from left bulb: turn\n",
    "        if '_l_' in ts.name: \n",
    "            turn.append(measID)\n",
    "            ts.base.set_series(ts.base.shaped2D()[:,::-1])\n",
    "            \n",
    "        ts.name = measID\n",
    "        \n",
    "        # calc odor spectrum of modes\n",
    "        signal = ia.TrialMean()(ia.CutOut((2, 5))(ts))        \n",
    "        # calc t2t correlation, exclude modes with t2t < thres\n",
    "        mode_cor = ia.CalcStimulusDrive()(signal)\n",
    "        signal = ia.SelectObjects()(signal, mode_cor._series.squeeze()<thres)\n",
    "        \n",
    "        # calc single odor response\n",
    "        signal = ia.SingleSampleResponse()(signal)\n",
    "        \n",
    "        # selected only modes with maximal activation above min_strength\n",
    "        strength = np.max(signal._series,0)\n",
    "        signal = ia.SelectObjects()(signal, strength>min_strength)\n",
    "        \n",
    "        allgood.append(signal)\n",
    "        \n",
    "    allgood = ia.ObjectConcat(unequalsample=True)(allgood)\n",
    "    return allgood, turn"
   ]
  },
  {
   "cell_type": "markdown",
   "metadata": {},
   "source": [
    "#### Read in data"
   ]
  },
  {
   "cell_type": "code",
   "execution_count": 10,
   "metadata": {},
   "outputs": [
    {
     "ename": "FileNotFoundError",
     "evalue": "[Errno 2] No such file or directory: '/home/sam/Documents/Repos/glomcentric_data/DataDicts/fspaces.pik'",
     "output_type": "error",
     "traceback": [
      "\u001B[0;31m---------------------------------------------------------------------------\u001B[0m",
      "\u001B[0;31mFileNotFoundError\u001B[0m                         Traceback (most recent call last)",
      "\u001B[0;32m<ipython-input-10-682bfd24ee76>\u001B[0m in \u001B[0;36m<module>\u001B[0;34m\u001B[0m\n\u001B[0;32m----> 1\u001B[0;31m \u001B[0mfeaturespaces\u001B[0m \u001B[0;34m=\u001B[0m \u001B[0mpickle\u001B[0m\u001B[0;34m.\u001B[0m\u001B[0mload\u001B[0m\u001B[0;34m(\u001B[0m\u001B[0mopen\u001B[0m\u001B[0;34m(\u001B[0m\u001B[0mos\u001B[0m\u001B[0;34m.\u001B[0m\u001B[0mpath\u001B[0m\u001B[0;34m.\u001B[0m\u001B[0mjoin\u001B[0m\u001B[0;34m(\u001B[0m\u001B[0mdatapath\u001B[0m\u001B[0;34m,\u001B[0m \u001B[0;34m'DataDicts'\u001B[0m\u001B[0;34m,\u001B[0m\u001B[0;34m'fspaces.pik'\u001B[0m\u001B[0;34m)\u001B[0m\u001B[0;34m)\u001B[0m\u001B[0;34m)\u001B[0m\u001B[0;34m\u001B[0m\u001B[0;34m\u001B[0m\u001B[0m\n\u001B[0m\u001B[1;32m      2\u001B[0m \u001B[0;34m\u001B[0m\u001B[0m\n\u001B[1;32m      3\u001B[0m \u001B[0mcas2molid\u001B[0m \u001B[0;34m=\u001B[0m \u001B[0;34m{\u001B[0m\u001B[0ml\u001B[0m\u001B[0;34m[\u001B[0m\u001B[0;36m0\u001B[0m\u001B[0;34m]\u001B[0m\u001B[0;34m:\u001B[0m\u001B[0ml\u001B[0m\u001B[0;34m[\u001B[0m\u001B[0;36m1\u001B[0m\u001B[0;34m]\u001B[0m \u001B[0;32mfor\u001B[0m \u001B[0ml\u001B[0m \u001B[0;32min\u001B[0m \u001B[0mcsv\u001B[0m\u001B[0;34m.\u001B[0m\u001B[0mreader\u001B[0m\u001B[0;34m(\u001B[0m\u001B[0mopen\u001B[0m\u001B[0;34m(\u001B[0m\u001B[0mcas2molid_file\u001B[0m\u001B[0;34m)\u001B[0m\u001B[0;34m)\u001B[0m\u001B[0;34m}\u001B[0m\u001B[0;34m\u001B[0m\u001B[0;34m\u001B[0m\u001B[0m\n\u001B[1;32m      4\u001B[0m \u001B[0;31m#cas2name = {l[0]:l[1] for l in csv.reader(open(cas2name_file),  delimiter='\\t')}\u001B[0m\u001B[0;34m\u001B[0m\u001B[0;34m\u001B[0m\u001B[0;34m\u001B[0m\u001B[0m\n\u001B[1;32m      5\u001B[0m \u001B[0;31m#molid2name = {v:cas2name[k] for k,v in cas2molid.items() if k in cas2name}\u001B[0m\u001B[0;34m\u001B[0m\u001B[0;34m\u001B[0m\u001B[0;34m\u001B[0m\u001B[0m\n",
      "\u001B[0;31mFileNotFoundError\u001B[0m: [Errno 2] No such file or directory: '/home/sam/Documents/Repos/glomcentric_data/DataDicts/fspaces.pik'"
     ]
    }
   ],
   "source": [
    "featurespaces = pickle.load(open(os.path.join(datapath, 'DataDicts','fspaces.pik')))\n",
    "\n",
    "cas2molid = {l[0]:l[1] for l in csv.reader(open(cas2molid_file))}\n",
    "#cas2name = {l[0]:l[1] for l in csv.reader(open(cas2name_file),  delimiter='\\t')}\n",
    "#molid2name = {v:cas2name[k] for k,v in cas2molid.items() if k in cas2name}\n",
    "\n",
    "ts, turn = load_combined_series(animals, method, stimulusdrive, min_activation, factorization_path)\n",
    "\n",
    "# load background images, turn if left bulb\n",
    "bg_dict = {measID: plt.imread(os.path.join(bg_path, measID, 'bg.png')) for measID in animals}\n",
    "for ani in turn:\n",
    "    bg_dict[ani] = bg_dict[ani][::-1]"
   ]
  },
  {
   "cell_type": "markdown",
   "metadata": {},
   "source": [
    "### Calculate spectral position in chemcial space space"
   ]
  },
  {
   "cell_type": "markdown",
   "metadata": {},
   "source": [
    "#### Z-score chemical space to make descriptors comparable"
   ]
  },
  {
   "cell_type": "code",
   "execution_count": null,
   "metadata": {
    "collapsed": true
   },
   "outputs": [],
   "source": [
    "feat = copy.deepcopy(featurespaces[fspace])\n",
    "feat.zscore()"
   ]
  },
  {
   "cell_type": "markdown",
   "metadata": {},
   "source": [
    "#### Subset data to odors for wich both measurements & descriptors exist"
   ]
  },
  {
   "cell_type": "code",
   "execution_count": null,
   "metadata": {},
   "outputs": [],
   "source": [
    "available = np.array([int(cas2molid[i.strip()]) in feat.obj_name for i in ts.label_stimuli])\n",
    "ts_pruned = ia.SelectTrials()(ts, available)\n",
    "pos = [feat.obj_name.index(int(cas2molid[i.strip()])) for i in ts_pruned.label_stimuli] \n",
    "fspace_data = feat.data[pos]"
   ]
  },
  {
   "cell_type": "markdown",
   "metadata": {},
   "source": [
    "#### Calculate barycenter of glomeruli in feature space"
   ]
  },
  {
   "cell_type": "code",
   "execution_count": null,
   "metadata": {},
   "outputs": [],
   "source": [
    "centers = np.dot(fspace_data.T, ts_pruned._series) / np.sum(ts_pruned._series,0)\n",
    "ts._series = centers\n",
    "ts.label_stimuli = featurespaces[fspace].feat_name\n",
    "\n",
    "# Set origin of feature space in the centrum of measurement data\n",
    "ts._series = ts._series - np.mean(fspace_data,0).reshape((-1,1))"
   ]
  },
  {
   "cell_type": "markdown",
   "metadata": {},
   "source": [
    "## Hierachical cluster data"
   ]
  },
  {
   "cell_type": "markdown",
   "metadata": {},
   "source": [
    "#### Create hierachical clustering of glomerular odor spectra in chemical space"
   ]
  },
  {
   "cell_type": "code",
   "execution_count": null,
   "metadata": {
    "collapsed": true
   },
   "outputs": [],
   "source": [
    "cluster_metric = 'cosine'\n",
    "linkage_scheme = 'average'\n",
    "\n",
    "dist = pdist(ts._series.T, metric = cluster_metric)\n",
    "link = linkage(dist, method = linkage_scheme)"
   ]
  },
  {
   "cell_type": "markdown",
   "metadata": {},
   "source": [
    "#### Visualize clustering to identify nodes for further analysis"
   ]
  },
  {
   "cell_type": "code",
   "execution_count": null,
   "metadata": {},
   "outputs": [],
   "source": [
    "title = '_'.join((cluster_metric, linkage_scheme, method))\n",
    "\n",
    "# create labels with abbreviations for animals. \n",
    "pseudo = dict(zip(animals, 'abcdefghij'))\n",
    "pseudo['center'] = 'center'\n",
    "pseudo_inv = {v: k for k, v in pseudo.items()}\n",
    "new_labels = [pseudo[i.split('_')[0]] + i.split('_mode')[-1] for i in ts.label_objects]\n",
    "# define color for each animal\n",
    "animal_colors = [plt.cm.spectral(1.*animals.index(i.split('_')[0])/len(animals)) if i.split('_')[0] in animals else '0.5'\n",
    "                 for i in ts.label_objects]\n",
    "\n",
    "# plot hierachical clustering\n",
    "fig = plt.figure(figsize=(7,len(new_labels)/10.))\n",
    "ax = fig.add_axes([0.1,0.01,0.89,0.94])\n",
    "d = dendrogram(link, orientation='left',  count_sort='descending', labels=new_labels)\n",
    "\n",
    "# label coloring\n",
    "for l_ind, l in enumerate(ax.yaxis.get_ticklabels()):\n",
    "    mode = d['leaves'][l_ind]\n",
    "    l.set_color(animal_colors[mode])\n",
    "  \n",
    "# annotate nodes with node id\n",
    "node_order = list(np.sort(np.array(d['dcoord'])[:,1]))\n",
    "for di, dd in zip(d['icoord'], d['dcoord']):\n",
    "    y = 0.5 * sum(di[1:3])\n",
    "    x = dd[1]\n",
    "    ix = node_order.index(dd[1])\n",
    "    ax.annotate(\"%d\" % ix, (x, y), xytext=(1,1), textcoords='offset points', va='bottom', ha='left', size=8)    \n",
    "   \n",
    "# decorate axis\n",
    "ax.set_xlabel('distance')\n",
    "ax.yaxis.set_tick_params(labelsize=8)\n",
    "ax.xaxis.set_tick_params(labelsize=8)\n",
    "ax.xaxis.set_ticks_position('top')\n",
    "ax.xaxis.set_label_position('top')\n",
    "ax.set_title(title, y=1.02)"
   ]
  },
  {
   "cell_type": "markdown",
   "metadata": {},
   "source": [
    "### Analysis of clustering in chemical space"
   ]
  },
  {
   "cell_type": "markdown",
   "metadata": {},
   "source": [
    "#### Functions to create cluster visualization"
   ]
  },
  {
   "cell_type": "code",
   "execution_count": null,
   "metadata": {},
   "outputs": [],
   "source": [
    "def plot_location(ts, link, cluster, bg_dict, ax_dict, color_dict, face=True, base_thres=0.3, all_glom=False):\n",
    "    ''' plot cluster location'''\n",
    "    \n",
    "    # plot bg\n",
    "    for axname,ax in ax_dict.items():\n",
    "        bg = bg_dict[axname]\n",
    "        ax.imshow(bg_dict[axname], interpolation='none', cmap=plt.cm.bone, extent=[0,84,64,0])\n",
    "        ax.set_axis_off()\n",
    "    \n",
    "    if all_glom:\n",
    "        for ix in range(ts.num_objects):\n",
    "            measID = ts.label_objects[ix].split('_')[0]\n",
    "            mode = ts.base.shaped2D()[ix]    \n",
    "            ax_dict[measID].contourf(mode, [base_thres,1], colors=['0.5'], alpha=0.5)\n",
    "\n",
    "    # plot location and timecouses of clusters\n",
    "    for clust in cluster:    \n",
    "        color = color_dict[clust]\n",
    "        spec_collection = []\n",
    "        for node in return_all_childs(link,clust+link.shape[0]+1):\n",
    "            # get animal of cluster member\n",
    "            measID = ts.label_objects[node].split('_')[0]\n",
    "            # print pixel participation\n",
    "            mode = ts.base.shaped2D()[node]    \n",
    "            if face:\n",
    "                ax_dict[measID].contourf(mode, [base_thres,1], colors=[color], alpha=0.5)\n",
    "            else:\n",
    "                ax_dict[measID].contour(mode, [base_thres], colors=[color], alpha=1, linewidths=[2])\n",
    "                \n",
    "                "
   ]
  },
  {
   "cell_type": "markdown",
   "metadata": {},
   "source": [
    "#### Chemical distance to MOR18-2 cluster"
   ]
  },
  {
   "cell_type": "markdown",
   "metadata": {},
   "source": [
    "calculate mean response of MOR18-2 cluster and it's distance to all other response spectra "
   ]
  },
  {
   "cell_type": "code",
   "execution_count": null,
   "metadata": {},
   "outputs": [],
   "source": [
    "mor182_cluster_id = 98 \n",
    "\n",
    "protoype_idx = return_all_childs(link, mor182_cluster_id + link.shape[0] + 1)\n",
    "prototype = np.mean(ts._series[:,protoype_idx],1)\n",
    "cor = squareform(pdist(np.hstack([prototype[:,np.newaxis], ts._series]).T, cluster_metric))[0,1:]"
   ]
  },
  {
   "cell_type": "code",
   "execution_count": null,
   "metadata": {},
   "outputs": [],
   "source": [
    "# automatic selection of cluster\n",
    "# currently overwritten by manual selection\n",
    "\n",
    "cluster_parents, _ = leaders(link, fcluster(link, 1.15))\n",
    "#cluster_parents = cluster_parents - len(d['leaves'])\n",
    "#cluster = list(cluster[cluster>0])\n",
    "cluster_parents.shape\n",
    "\n",
    "thres = 0.5\n",
    "cluster = []\n",
    "for parent_node in cluster_parents:\n",
    "    cluster_idx = return_all_childs(link, parent_node)\n",
    "    cluster_spec = np.mean(ts._series[:,cluster_idx],1)\n",
    "    dist2mor182 =  pdist(np.vstack([prototype, cluster_spec]), cluster_metric)[0]\n",
    "    if dist2mor182 < thres:\n",
    "        cluster.append(parent_node - link.shape[0] - 1)"
   ]
  },
  {
   "cell_type": "markdown",
   "metadata": {},
   "source": [
    "### Chemotopic Clustering"
   ]
  },
  {
   "cell_type": "code",
   "execution_count": null,
   "metadata": {},
   "outputs": [],
   "source": [
    "fig_dim = (7.48, 4.5)\n"
   ]
  },
  {
   "cell_type": "code",
   "execution_count": null,
   "metadata": {},
   "outputs": [],
   "source": [
    "def plot_hierachical_clusters(fig, gs_meta, cluster, labels=['a','b']):\n",
    "    #manual selection of cluster\n",
    "    num_cluster = len(cluster)\n",
    "\n",
    "    num_animals = len(animals)\n",
    "    num_stim = len(ts.label_stimuli)\n",
    "    clust_colors = {clust: plt.cm.gist_rainbow_r(1.*cluster.index(clust)/num_cluster) for clust in cluster}\n",
    "\n",
    "    gs_top = matplotlib.gridspec.GridSpecFromSubplotSpec(2, 2, gs_meta[0], hspace=0.01, height_ratios=[5,1], \n",
    "                                                         wspace=0.05, width_ratios=[16.5,0.3])\n",
    "\n",
    "    # plot dendrogarm\n",
    "    ax = fig.add_subplot(gs_top[0,0])\n",
    "    top = gs_meta[0].get_position(fig).corners()[1,1]\n",
    "    d = dendrogram(link, link_color_func = color_clusters(cluster, clust_colors), count_sort='descending', ax=ax)\n",
    "    ax.set_xticks([])\n",
    "    ax.set_ylabel('$\\hat{d}_{cos}$', labelpad=-1)\n",
    "    ax.set_yticks([0,0.5,1])\n",
    "    ax.text(-200,1.1,'({})'.format(labels[0]), fontweight='bold', fontsize=global_fs, ha='left', va='center')\n",
    "    #ax.set_ylim([0,0.2])\n",
    "\n",
    "\n",
    "    print(np.max(((cor[d['leaves']]).reshape((1,-1)))))\n",
    "    # plot MOR18-2 correlation\n",
    "    ax = fig.add_subplot(gs_top[1,0])\n",
    "    im = ax.imshow(((cor[d['leaves']]).reshape((1,-1))), cmap = plt.cm.RdYlGn_r, interpolation='none', \n",
    "                   aspect='auto', vmin=0, vmax=1.8)\n",
    "    ax.set_yticks([])\n",
    "    ax.set_xticks([])\n",
    "    ax.set_xlabel('glomeruli', labelpad=2)\n",
    "    # colorbar\n",
    "    axbar = fig.add_subplot(gs_top[:,1])\n",
    "    cbar = plt.colorbar(im, cax=axbar)\n",
    "    cbar.set_ticks([0,1])\n",
    "    cbar.set_ticklabels([1,0])\n",
    "    cbar.set_label('$cos_{MOR18-2}$', labelpad=-2)\n",
    "\n",
    "    # plot locations\n",
    "    gs = matplotlib.gridspec.GridSpecFromSubplotSpec(1, num_animals, gs_meta[1,:], wspace=0.02)\n",
    "    top = gs_meta[1].get_position(fig).corners()[1,1]\n",
    "    axbase = {animal: fig.add_subplot(gs[0,ix]) for ix, animal in enumerate(animals)}\n",
    "    plot_location(ts, link, cluster, bg_dict, axbase, clust_colors, base_thres=0.5, all_glom=True)\n",
    "    axbase[animals[0]].text(-27.5, 1.1, '({})'.format(labels[1]), fontweight='bold', fontsize=global_fs, ha='left', va='center')\n",
    "\n",
    "    #savepath= os.path.join('Figures', 'chemotopy.png')\n",
    "    #fig.savefig(savepath, bbox_inches='tight', dpi=600)"
   ]
  },
  {
   "cell_type": "code",
   "execution_count": null,
   "metadata": {
    "scrolled": false
   },
   "outputs": [],
   "source": [
    "fig = plt.figure(figsize=fig_dim)\n",
    "gs = matplotlib.gridspec.GridSpec(4, 1, bottom=0.01, top = 0.99, left = 0.05, right=0.95, \n",
    "                                       height_ratios=[1, 0.75, 1, 0.75], hspace=0.1)\n",
    "\n",
    "gs_meta = matplotlib.gridspec.GridSpecFromSubplotSpec(2,1,gs[:2])\n",
    "cluster = [340, 98, 189, 212, 244, 232, 293, 308, 101, 251]\n",
    "plot_hierachical_clusters(fig, gs_meta, cluster)\n",
    "\n",
    "gs_meta = matplotlib.gridspec.GridSpecFromSubplotSpec(2,1,gs[2:])\n",
    "#cluster = [379, 384]\n",
    "#cluster = [340, 315, 362, 356, 359, 366, 364]\n",
    "cluster = [372, 356, 359, 366, 364]\n",
    "plot_hierachical_clusters(fig, gs_meta, cluster, labels=['c','d'])\n"
   ]
  },
  {
   "cell_type": "code",
   "execution_count": null,
   "metadata": {},
   "outputs": [],
   "source": [
    "fig.savefig('Figures/chemotopic_clustering.png', dpi=600)"
   ]
  },
  {
   "cell_type": "markdown",
   "metadata": {},
   "source": [
    "#### Spatial plot of all modes with functional distance to prototype"
   ]
  },
  {
   "cell_type": "code",
   "execution_count": null,
   "metadata": {},
   "outputs": [],
   "source": [
    "num_animals = len(animals)\n",
    "\n",
    "cluster_id = 98\n",
    "\n",
    "fig = plt.figure()\n",
    "gs = matplotlib.gridspec.GridSpec(3,int(np.ceil(num_animals/3.)))\n",
    "axbase = [fig.add_subplot(gs[i]) for i in range(num_animals)]\n",
    "\n",
    "\n",
    "for measID, ax in zip(animals, axbase):\n",
    "    bg = bg_dict[measID]\n",
    "    ax.imshow(bg, interpolation='none', cmap=plt.cm.bone, extent=[0,84,64,0], vmin=-1, vmax=1)\n",
    "    ax.set_axis_off() \n",
    "\n",
    "what = ts\n",
    "for obj_id in range(what.num_objects):\n",
    "    measID = what.label_objects[obj_id].split('_')[0]\n",
    "    pos = animals.index(measID)\n",
    "    base = what.base.shaped2D()[obj_id]\n",
    "    basecolor = plt.cm.RdYlGn_r(cor[obj_id]/1.5) #if cor[obj_id]<1 else '0.7'\n",
    "    axbase[pos].contourf(base, [0.3,1], colors=[basecolor]) \n",
    "    \n",
    "fig.suptitle('chemical distance')    \n",
    "plt.show()"
   ]
  },
  {
   "cell_type": "markdown",
   "metadata": {},
   "source": [
    "#### Distribution of chemical distances for spatial neigbours vs. non-neigbours"
   ]
  },
  {
   "cell_type": "markdown",
   "metadata": {},
   "source": [
    "Neigbours are calculated as overlapping modes after extending the custermodes with dilation "
   ]
  },
  {
   "cell_type": "code",
   "execution_count": null,
   "metadata": {},
   "outputs": [],
   "source": [
    "plt.figure()\n",
    "\n",
    "for dilation in [6]: # range(1, 35, 1):\n",
    "\n",
    "    thres = 0.6\n",
    "    metric='cosine'\n",
    "    show = True\n",
    "    \n",
    "    # get cluster member\n",
    "    member_idx = return_all_childs(link,cluster_id+link.shape[0]+1)\n",
    "    member_mask = np.zeros(ts.num_objects).astype('bool')\n",
    "    member_mask[member_idx] = True\n",
    "    \n",
    "    \n",
    "    # calculate which modes overlap with cluster modes\n",
    "    neighbour_modes = np.zeros(ts.num_objects).astype('bool')\n",
    "    for animal in animals:\n",
    "        animal_mask = np.array([animal in mode for mode in ts.label_objects])\n",
    "        neighbour_pixel = np.logical_or(ts.base.shaped2D()[animal_mask*member_mask]>thres,0).squeeze()\n",
    "        if dilation:\n",
    "            neighbour_pixel = scipy.ndimage.morphology.binary_dilation(neighbour_pixel, iterations=dilation)\n",
    "        neighbour_modes[animal_mask] = np.max(ts.base._series[animal_mask][:,neighbour_pixel.flatten()],1)>thres\n",
    "    neighbour_modes[member_mask]=False    \n",
    "    \n",
    "    # calculate mode distances\n",
    "    prototype = np.mean(ts._series[:,member_idx],1)\n",
    "    dist = squareform(pdist(np.hstack([prototype[:,np.newaxis], ts._series]).T, metric))[0,1:]\n",
    "    dist_neighbours = dist[neighbour_modes]\n",
    "    dist_nonneighbours = dist[~(neighbour_modes+member_mask)]\n",
    "    \n",
    "    if show:\n",
    "        # plot distance distribution\n",
    "        ax = plt.subplot(111)\n",
    "        ax.hist(dist_nonneighbours, np.linspace(0,2,21), color=['0.5'], normed=True, lw=0, rwidth=1, label='non neighbours')\n",
    "        ax.hist(dist_neighbours, np.linspace(0,2,21), color='k', normed=True, histtype='step', lw=2, rwidth=1, label= 'neigbours')\n",
    "        ax.set_xlabel('distance')\n",
    "        ax.set_ylabel('rel. frequency')\n",
    "        ax.grid()\n",
    "        plt.legend()\n",
    "        \n",
    "        # plot neighbour modes\n",
    "        fig = plt.figure()\n",
    "        gs = matplotlib.gridspec.GridSpec(3,int(np.ceil(num_animals/3.)))\n",
    "        axbase = [fig.add_subplot(gs[i]) for i in range(num_animals)]\n",
    "        \n",
    "        \n",
    "        for measID, ax in zip(animals, axbase):\n",
    "            bg = bg_dict[measID]\n",
    "            ax.imshow(bg, interpolation='none', cmap=plt.cm.bone, extent=[0,84,64,0], vmin=-1, vmax=1)\n",
    "            ax.set_axis_off() \n",
    "        \n",
    "        for obj_id in range(what.num_objects):\n",
    "            measID = what.label_objects[obj_id].split('_')[0]\n",
    "            pos = animals.index(measID)\n",
    "            base = what.base.shaped2D()[obj_id]\n",
    "            basecolor ='g' if neighbour_modes[obj_id] else ('b' if member_mask[obj_id] else 'r')\n",
    "            axbase[pos].contourf(base, [thres,1], colors=[basecolor], alpha=0.5) # if cor[obj_id]<1 else (1.,0.1,0.1)], alpha=0.9)\n",
    "        \n",
    "        \n",
    "    # calculate significane of distribution difference\n",
    "    _, p_mwu = scipy.stats.mannwhitneyu(dist_neighbours, dist_nonneighbours)\n",
    "    _, p_ks = scipy.stats.ks_2samp(dist_neighbours, dist_nonneighbours)\n",
    "    _, p_tt = scipy.stats.ttest_ind(dist_neighbours, dist_nonneighbours)\n",
    "    print(' distance neighbours: %.2f, nonneighbours: %.2f, p_values -> MWU: %.2f, KS: %.2f, T: %.2f'%(np.mean(dist_neighbours),np.mean(dist_nonneighbours), p_mwu, p_ks, p_tt))"
   ]
  },
  {
   "cell_type": "code",
   "execution_count": null,
   "metadata": {},
   "outputs": [],
   "source": []
  }
 ],
 "metadata": {
  "kernelspec": {
   "name": "python3",
   "language": "python",
   "display_name": "Python 3"
  },
  "language_info": {
   "codemirror_mode": {
    "name": "ipython",
    "version": 2
   },
   "file_extension": ".py",
   "mimetype": "text/x-python",
   "name": "python",
   "nbconvert_exporter": "python",
   "pygments_lexer": "ipython2",
   "version": "2.7.13"
  }
 },
 "nbformat": 4,
 "nbformat_minor": 1
}